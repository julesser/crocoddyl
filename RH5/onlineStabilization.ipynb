{
 "cells": [
  {
   "cell_type": "code",
   "execution_count": 1,
   "metadata": {},
   "outputs": [],
   "source": [
    "import matplotlib.pyplot as plt\n",
    "\n",
    "import pybullet as pb\n",
    "import pybullet_data\n",
    "import numpy as np\n",
    "import pandas \n",
    "from time import sleep\n",
    "import scipy.interpolate as interp\n",
    "\n",
    "# import pinocchio\n",
    "# from pinocchio.robot_wrapper import RobotWrapper"
   ]
  },
  {
   "cell_type": "code",
   "execution_count": 2,
   "metadata": {
    "tags": []
   },
   "outputs": [
    {
     "output_type": "stream",
     "name": "stdout",
     "text": "Pybubllet Ground parameter:\nlateralFriction: 1.0\nrestitution: 0.0\ncontactDamping: -1.0\ncontactStiffness: -1.0\n(0.0, 0.7, (0.0, 0.0, 0.0), (0.0, 0.0, 0.0), (0.0, 0.0, 0.0, 1.0), 0.97, 0.0, 0.0, -1.0, -1.0, 2, 0.001)\n"
    }
   ],
   "source": [
    "client = pb.connect(pb.GUI)\n",
    "pb.setAdditionalSearchPath(pybullet_data.getDataPath()) #optionally\n",
    "pb.resetDebugVisualizerCamera( cameraDistance=2, cameraYaw=150, cameraPitch=-15, cameraTargetPosition=[-0.008,0.008,0.64])\n",
    "\n",
    "ground = pb.loadURDF(\"plane.urdf\")\n",
    "# Analyse the contact parameter\n",
    "groundParams = pb.getDynamicsInfo(ground, -1)\n",
    "# print(groundParams)\n",
    "print('Pybubllet Ground parameter:')\n",
    "print('lateralFriction: ' + str(groundParams[1]))\n",
    "print('restitution: ' + str(groundParams[5]))\n",
    "print('contactDamping: ' + str(groundParams[8]))\n",
    "print('contactStiffness: ' + str(groundParams[9]))\n",
    "pb.changeDynamics(ground, -1, lateralFriction=0.7, restitution=.97)\n",
    "print(pb.getDynamicsInfo(ground, -1))\n",
    "pb.setGravity(0, 0, -9.81)\n",
    "pb.setTimeStep(1e-3)"
   ]
  },
  {
   "cell_type": "code",
   "execution_count": 3,
   "metadata": {},
   "outputs": [],
   "source": [
    "# robot = pb.loadURDF(\"./urdf/Lower_Body.urdf\", [0, 0, 0.9], flags=pb.URDF_USE_INERTIA_FROM_FILE) #default flag: collision off\n",
    "# robot = pb.loadURDF(\"../../rh5-models/abstract-urdf/urdf/RH5Humanoid_PkgPath_FixedArmsNHead.urdf\", [0, 0, 0.91], flags=pb.URDF_USE_INERTIA_FROM_FILE) \n",
    "initPos = [0, 0, 0.8793]\n",
    "intiOri = [0, 0, 0, 1]\n",
    "# robot = pb.loadURDF(\"../../rh5-models/abstract-urdf/urdf/RH5Humanoid_PkgPath_FixedArmsNHead.urdf\", basePosition=initPos, baseOrientation=intiOri, flags=pb.URDF_USE_INERTIA_FROM_FILE) \n",
    "robot = pb.loadURDF(\"../../rh5-models/abstract-urdf/urdf/RH5Humanoid_PkgPath.urdf\", basePosition=initPos, baseOrientation=intiOri, flags=pb.URDF_USE_INERTIA_FROM_FILE) "
   ]
  },
  {
   "cell_type": "code",
   "execution_count": 4,
   "metadata": {
    "tags": []
   },
   "outputs": [],
   "source": [
    "# while(True):\n",
    "#     sleep(1)\n",
    "#     print(pb.getDebugVisualizerCamera())"
   ]
  },
  {
   "cell_type": "code",
   "execution_count": 5,
   "metadata": {
    "tags": []
   },
   "outputs": [
    {
     "output_type": "stream",
     "name": "stdout",
     "text": "Time range:5.37 [s]\n"
    }
   ],
   "source": [
    "# Load the data\n",
    "# simName = 'results/HumanoidFixedArms/StaticWalking_CoP100_ImpulseCoPCost/'\n",
    "simName = 'results/DynamicWalking_LargeSteps_CoP100_ArmsFreed/'\n",
    "# simName = 'results/HumanoidFixedArms/StaticWalking_NoCoPCost_ComHeightConstant/'\n",
    "saveDir = simName + 'pybullet/'\n",
    "if not os.path.exists(saveDir):\n",
    "                os.makedirs(saveDir)\n",
    "data = pandas.read_csv(simName + 'logs/logJointSpace_filled.csv')\n",
    "base_data = pandas.read_csv(simName + 'logs/logBase.csv')\n",
    "total_time = data['t[s]'][data['t[s]'].size-1]-data['t[s]'][0]\n",
    "print(\"Time range:\" + str(total_time) + ' [s]')"
   ]
  },
  {
   "cell_type": "code",
   "execution_count": 6,
   "metadata": {
    "tags": []
   },
   "outputs": [
    {
     "output_type": "stream",
     "name": "stdout",
     "text": "54\n{'BodyPitch': 0, 'BodyRoll': 1, 'BodyYaw': 2, 'ALShoulder': 3, 'ALShoulder1': 4, 'ALShoulder2': 5, 'ALShoulder3': 6, 'ALElbow': 7, 'ALWristRoll': 8, 'ALWristYaw': 9, 'ALWristPitch': 10, 'ALWrist_FT': 11, 'ARShoulder': 12, 'ARShoulder1': 13, 'ARShoulder2': 14, 'ARShoulder3': 15, 'ARElbow': 16, 'ARWristRoll': 17, 'ARWristYaw': 18, 'ARWristPitch': 19, 'ARWrist_FT': 20, 'Camera_Torso': 21, 'HeadPitch': 22, 'HeadRoll': 23, 'HeadYaw': 24, 'Camera_Left': 25, 'Camera_Right': 26, 'Initial_root': 27, 'VLP16': 28, 'IMU': 29, 'LLHip1': 30, 'LLHip2': 31, 'LLHip3': 32, 'LLKnee': 33, 'LLAnkleRoll': 34, 'LLAnklePitch': 35, 'LLAnkle_FT': 36, 'FLC_FrontLeft': 37, 'FLC_FrontRight': 38, 'FLC_RearLeft': 39, 'FLC_RearRight': 40, 'FL_SupportCenter': 41, 'LRHip1': 42, 'LRHip2': 43, 'LRHip3': 44, 'LRKnee': 45, 'LRAnkleRoll': 46, 'LRAnklePitch': 47, 'LRAnkle_FT': 48, 'FRC_FrontLeft': 49, 'FRC_FrontRight': 50, 'FRC_RearLeft': 51, 'FRC_RearRight': 52, 'FR_SupportCenter': 53}\n"
    }
   ],
   "source": [
    "# Get the states\n",
    "joints = {}\n",
    "for i in range(pb.getNumJoints(robot)):\n",
    "        jinfo = pb.getJointInfo(robot, i)\n",
    "        joints.update(\n",
    "            {jinfo[1].decode(\"utf-8\") : i }\n",
    "        )\n",
    "print(pb.getNumJoints(robot))\n",
    "print(joints)"
   ]
  },
  {
   "cell_type": "code",
   "execution_count": 7,
   "metadata": {
    "tags": []
   },
   "outputs": [
    {
     "output_type": "stream",
     "name": "stdout",
     "text": "{'BodyPitch': 0, 'BodyRoll': 1, 'BodyYaw': 2, 'ALShoulder1': 4, 'ALShoulder2': 5, 'ALShoulder3': 6, 'ALElbow': 7, 'ARShoulder1': 13, 'ARShoulder2': 14, 'ARShoulder3': 15, 'ARElbow': 16, 'LLHip1': 30, 'LLHip2': 31, 'LLHip3': 32, 'LLKnee': 33, 'LLAnkleRoll': 34, 'LLAnklePitch': 35, 'LRHip1': 42, 'LRHip2': 43, 'LRHip3': 44, 'LRKnee': 45, 'LRAnkleRoll': 46, 'LRAnklePitch': 47}\n"
    }
   ],
   "source": [
    "# Get all the data for one joint and store it into a dict\n",
    "joint_trajectories = {}\n",
    "fixed_joint_trajectories = {}\n",
    "removes = []\n",
    "\n",
    "for jname in joints.keys():\n",
    "    try:\n",
    "        joint_trajectories.update(\n",
    "            {jname : data[['q_'+jname, 'qd_'+jname, 'Tau_'+jname]].to_numpy()}\n",
    "        )\n",
    "    except:\n",
    "        removes.append(jname)\n",
    "\n",
    "for v in removes:\n",
    "    joints.pop(v)\n",
    "print(joints)\n",
    "# Set joints to desired initial configuration\n",
    "for jn in joints.keys():\n",
    "    pb.resetJointState(robot, joints[jn], joint_trajectories[jn][0,0])\n",
    "fixedJoints = ['ALShoulder1', 'ALShoulder2', 'ALShoulder3', 'ALElbow', 'ALWristRoll', 'ALWristYaw',                             'ALWristPitch', 'ARShoulder1', 'ARShoulder2', 'ARShoulder3', 'ARElbow', 'ARWristRoll',                          'ARWristYaw', 'ARWristPitch','HeadPitch', 'HeadRoll', 'HeadYaw']\n",
    "fixedJointsConfig = [-0.25,0.1,0,0,0,0,0, # Left Arm\n",
    "                    0.25,-0.1,0,0,0,0,0, # Right Arm\n",
    "                    0,0,0]               # Head\n",
    "fixedJointIDs = [4, 5, 6, 7, 8, 9, 10, \n",
    "                 13, 14, 15, 16, 17, 18, 19, \n",
    "                 22, 23, 24]\n",
    "for jnID, i in zip(fixedJointIDs, range(len(fixedJointsConfig))): \n",
    "    pb.resetJointState(robot, jnID, fixedJointsConfig[i])\n"
   ]
  },
  {
   "cell_type": "code",
   "execution_count": 8,
   "metadata": {
    "tags": []
   },
   "outputs": [
    {
     "output_type": "stream",
     "name": "stderr",
     "text": "ipykernel_launcher:21: DeprecationWarning: np.asscalar(a) is deprecated since NumPy v1.16, use a.item() instead\nipykernel_launcher:22: DeprecationWarning: np.asscalar(a) is deprecated since NumPy v1.16, use a.item() instead\nipykernel_launcher:23: DeprecationWarning: np.asscalar(a) is deprecated since NumPy v1.16, use a.item() instead\nipykernel_launcher:24: DeprecationWarning: np.asscalar(a) is deprecated since NumPy v1.16, use a.item() instead\n"
    }
   ],
   "source": [
    "pos_interp = {jn: interp.CubicHermiteSpline(data[\"t[s]\"], joint_trajectories[jn][:,0], joint_trajectories[jn][:,1]) for jn in joints.keys()}\n",
    "# print(joint_trajectories['LRHip3'][:,0])\n",
    "# print(pos_interp['LRHip3'](1))\n",
    "vel_interp = {jn: interp.CubicSpline(data[\"t[s]\"], joint_trajectories[jn][:,1], bc_type=\"not-a-knot\")\n",
    "              for jn in joints.keys()}\n",
    "tau_interp = {jn: interp.CubicSpline(data[\"t[s]\"], joint_trajectories[jn][:,2], bc_type=\"not-a-knot\")\n",
    "              for jn in joints.keys()}\n",
    "base_coord_names = ['X', 'Y', 'Z', \n",
    "                    'vx', 'vy', 'vz', 'wx', 'wy', 'wz',\n",
    "                    'vxd', 'vyd', 'vzd', 'wxd', 'wyd', 'wzd']\n",
    "base_interp = {coord: interp.CubicSpline(data[\"t[s]\"], base_data[coord], bc_type=\"not-a-knot\")\n",
    "              for coord in base_coord_names}\n",
    "\n",
    "des_positions, act_positions = [], []\n",
    "des_velocities = []\n",
    "des_torques, act_torques = [], [] \n",
    "des_base_trajectories, act_base_positions = [], [] \n",
    "\n",
    "time_step = pb.getPhysicsEngineParameters()['fixedTimeStep']\n",
    "for t in np.arange(0, total_time + time_step, time_step):\n",
    "    desPositions = [np.asscalar(pos_interp[jn](t)) for jn in joints.keys()]\n",
    "    desVelocities = [np.asscalar(vel_interp[jn](t)) for jn in joints.keys()]\n",
    "    desTorques = [np.asscalar(tau_interp[jn](t)) for jn in joints.keys()]\n",
    "    base_trajectory = [np.asscalar(base_interp[coord](t)) for coord in base_coord_names]\n",
    "    des_positions.append(desPositions)\n",
    "    des_velocities.append(desVelocities)\n",
    "    des_torques.append(desTorques)\n",
    "    des_base_trajectories.append(base_trajectory)"
   ]
  },
  {
   "cell_type": "code",
   "execution_count": 9,
   "metadata": {
    "tags": []
   },
   "outputs": [
    {
     "output_type": "stream",
     "name": "stdout",
     "text": "RH5 Torque Limits: [140, 140, 23, 135, 135, 378, 325, 200, 200, 135, 135, 378, 325, 200, 200]\n"
    }
   ],
   "source": [
    "# Load the model with pinocchio\n",
    "# modelPath = os.path.join(os.environ.get('HOME'), \"Dev/rh5-models\")\n",
    "# URDF_FILENAME = \"RH5Humanoid_PkgPath_FixedArmsNHead.urdf\"\n",
    "# URDF_SUBPATH = \"/abstract-urdf-deprecated/urdf/\" + URDF_FILENAME\n",
    "# rh5_robot = RobotWrapper.BuildFromURDF(modelPath + URDF_SUBPATH, [modelPath], pinocchio.JointModelFreeFlyer())\n",
    "# rmodel = rh5_robot.model\n",
    "# print(rmodel.effortLimit)\n",
    "\n",
    "# for jn in joints.keys(): \n",
    "#     print(jn)\n",
    "# Set maximum torques from URDF\n",
    "max_torque_from_URDF = [140, 140, 23, \n",
    "                        135, 135, 378, 325, 200, 200,\n",
    "                        135, 135, 378, 325, 200, 200,]\n",
    "# TaskSpecific:Jumping\n",
    "# max_torque_from_URDF = [140, 140, 23,\n",
    "#                         135, 167, 53,\n",
    "#                         135, 167, 53,\n",
    "#                         135, 135, 378, 325, 200, 200,\n",
    "#                         135, 135, 378, 325, 200, 200,]\n",
    "print('RH5 Torque Limits: ' + str(max_torque_from_URDF))\n",
    "\n",
    "base_pose = pb.getBasePositionAndOrientation(robot)\n",
    "base_offset = list(np.array(base_pose[0]) - np.array(initPos))"
   ]
  },
  {
   "cell_type": "code",
   "execution_count": 10,
   "metadata": {},
   "outputs": [],
   "source": [
    "# q0 = np.matrix([0,0,0.8793,0,0,0,1,     \n",
    "#                 0,0,-0.33,0.63,0,-0.30,       \n",
    "#                 0,0,-0.33,0.63,0,-0.30]).T\n",
    "\n",
    "# # Stabilize desired initial position for few seconds\n",
    "# pb.setJointMotorControlArray(\n",
    "# robot, [i for i in  joints.values()], pb.POSITION_CONTROL,\n",
    "# targetPositions = [joint_trajectories[jn][0,0] for jn in joints.keys()]\n",
    "# )\n",
    "# pb.setRealTimeSimulation(1)\n",
    "\n",
    "save_id = pb.saveState()"
   ]
  },
  {
   "cell_type": "code",
   "execution_count": 11,
   "metadata": {
    "tags": []
   },
   "outputs": [],
   "source": [
    "# Set control mode\n",
    "pb.restoreState(save_id)\n",
    "\n",
    "# logID = pb.startStateLogging(pb.STATE_LOGGING_VIDEO_MP4, \"video.mp4\") # TODO: Improvements: (i) Increase video quality; switching to full-screen crashes (ii) Match video length with velocity; too fast now. \n",
    "pb.setRealTimeSimulation(0)\n",
    "# pb.resetBasePositionAndOrientation(robot, posObj=[0, 0, 0.89], ornObj=[0, 0, 0, 1])\n",
    "# sleep(0.5)\n",
    "time = 0\n",
    "count = 0\n",
    "time_step = pb.getPhysicsEngineParameters()['fixedTimeStep']\n",
    "\n",
    "# fast_forward=0.03/0.008\n",
    "while time < total_time:\n",
    "    # TORQUE_CONTROL (array version)\n",
    "    # pb.setJointMotorControlArray(\n",
    "    #     robot, [idx for idx in  joints.values()], pb.VELOCITY_CONTROL,\n",
    "    #     targetVelocities = [0 for jn in joints.keys()], \n",
    "    #     forces = [0 for jn in joints.keys()]\n",
    "    # )\n",
    "    # pb.setJointMotorControlArray(\n",
    "    #     robot, [idx for idx in joints.values()], pb.TORQUE_CONTROL,\n",
    "    #     forces = des_torques[count]\n",
    "    # )\n",
    "    # TORQUE_CONTROL (non-array version)\n",
    "    # for name in joints.keys():\n",
    "    #     idx = joints[name]\n",
    "    #     pb.setJointMotorControl2(robot, idx, pb.VELOCITY_CONTROL, targetVelocity=0, force=0)\n",
    "    # for name, j in zip(joints.keys(), range(len(joints))):\n",
    "    #     idx = joints[name]\n",
    "    #     pb.setJointMotorControl2(robot, idx, pb.TORQUE_CONTROL, force=des_torques[count][j])\n",
    "        \n",
    "    # POSITION_CONTROL\n",
    "    pb.setJointMotorControlArray(\n",
    "        robot, [idx for idx in  joints.values()], pb.POSITION_CONTROL,\n",
    "        targetPositions = des_positions[count],\n",
    "        targetVelocities = des_velocities[count],\n",
    "        # forces = max_torque_from_URDF\n",
    "    )\n",
    "   \n",
    "    time += time_step \n",
    "    count += 1\n",
    "\n",
    "    pb.stepSimulation()\n",
    "    sleep(time_step)\n",
    "\n",
    "    joint_states = pb.getJointStates(robot, [idx for idx in  joints.values()])\n",
    "    # get joint states\n",
    "    joint_positions = [state[0] for state in joint_states]\n",
    "    act_positions.append(joint_positions)\n",
    "    # get joint torques\n",
    "    joint_torques = [state[3] for state in joint_states]\n",
    "    act_torques.append(joint_torques)\n",
    "    # get base pose\n",
    "    base_pose = pb.getBasePositionAndOrientation(robot)\n",
    "    act_base_positions.append(list(np.array(base_pose[0]) - np.array(base_offset))) # compensate for static offset between pb base and crocoddyl base definition\n",
    "# pb.stopStateLogging(logID)\n",
    "# print(\"Replay velocity\", fast_forward, \"x\")"
   ]
  },
  {
   "cell_type": "code",
   "execution_count": 12,
   "metadata": {
    "tags": []
   },
   "outputs": [
    {
     "output_type": "stream",
     "name": "stdout",
     "text": "((0.1406269625638004, 0.053058189735339434, (0.0, 0.0, 0.0, 0.0, 0.0, 0.0), -27.56644127912621), (0.007896262553979174, 0.007402829603301677, (0.0, 0.0, 0.0, 0.0, 0.0, 0.0), -0.3208012559391707), (-0.0008118442840714072, -0.0006601348155036721, (0.0, 0.0, 0.0, 0.0, 0.0, 0.0), 0.534606661774377), (-0.20995023401347768, 0.013266186029409054, (0.0, 0.0, 0.0, 0.0, 0.0, 0.0), -1.0591816861142014), (0.07676971426650779, -0.005066981343180608, (0.0, 0.0, 0.0, 0.0, 0.0, 0.0), 1.4811249245025686), (-0.0012233499340806766, -0.0003965306318940645, (0.0, 0.0, 0.0, 0.0, 0.0, 0.0), 0.029241492315359937), (-0.008213992807956783, -0.0021042345885371487, (0.0, 0.0, 0.0, 0.0, 0.0, 0.0), 0.9084241106205775), (0.20594813185074118, -0.013688682146213188, (0.0, 0.0, 0.0, 0.0, 0.0, 0.0), 1.0914498524911405), (-0.09548170364201745, 0.005398031421261899, (0.0, 0.0, 0.0, 0.0, 0.0, 0.0), -1.7835815330195328), (0.0014475245394098843, 0.0004444147332691112, (0.0, 0.0, 0.0, 0.0, 0.0, 0.0), -0.03365135839216578), (0.0019371838287407536, 0.0023232437160442005, (0.0, 0.0, 0.0, 0.0, 0.0, 0.0), -1.0322233626281239), (0.001007210332799527, -0.0004170110285393847, (0.0, 0.0, 0.0, 0.0, 0.0, 0.0), 0.0), (0.005499597397170068, 0.0018277713567046714, (0.0, 0.0, 0.0, 0.0, 0.0, 0.0), 0.0), (-0.27126071305163535, -0.014126641530503779, (0.0, 0.0, 0.0, 0.0, 0.0, 0.0), 0.0), (0.503697643157753, -0.006063762117540882, (0.0, 0.0, 0.0, 0.0, 0.0, 0.0), 0.0), (-0.010735478661605026, -0.005616718162430344, (0.0, 0.0, 0.0, 0.0, 0.0, 0.0), 0.0), (-0.2630306928863845, 0.0003252169333485756, (0.0, 0.0, 0.0, 0.0, 0.0, 0.0), 0.0), (0.005384927942232123, -0.0004368247857917822, (0.0, 0.0, 0.0, 0.0, 0.0, 0.0), -6.188174209744395), (0.004734276102488632, 0.0014433165597434704, (0.0, 0.0, 0.0, 0.0, 0.0, 0.0), -51.01558031707077), (-0.2731208521869928, -0.01811335939440075, (0.0, 0.0, 0.0, 0.0, 0.0, 0.0), 7.8185361705887), (0.501759193745331, 0.002673366571436324, (0.0, 0.0, 0.0, 0.0, 0.0, 0.0), -5.865022225163806), (-0.0032796892466037736, -0.0056510097898649385, (0.0, 0.0, 0.0, 0.0, 0.0, 0.0), 10.333107572310407), (-0.26040537682874254, -0.0035158108152063576, (0.0, 0.0, 0.0, 0.0, 0.0, 0.0), 46.47186427071721))\n###########################\n(0.1406269625638004, 0.053058189735339434, (0.0, 0.0, 0.0, 0.0, 0.0, 0.0), -27.56644127912621)\n(0.007896262553979174, 0.007402829603301677, (0.0, 0.0, 0.0, 0.0, 0.0, 0.0), -0.3208012559391707)\n(-0.0008118442840714072, -0.0006601348155036721, (0.0, 0.0, 0.0, 0.0, 0.0, 0.0), 0.534606661774377)\n(-0.20995023401347768, 0.013266186029409054, (0.0, 0.0, 0.0, 0.0, 0.0, 0.0), -1.0591816861142014)\n[-27.56644127912621, -0.3208012559391707, 0.534606661774377, -1.0591816861142014, 1.4811249245025686, 0.029241492315359937, 0.9084241106205775, 1.0914498524911405, -1.7835815330195328, -0.03365135839216578, -1.0322233626281239, 0.0, 0.0, 0.0, 0.0, 0.0, 0.0, -6.188174209744395, -51.01558031707077, 7.8185361705887, -5.865022225163806, 10.333107572310407, 46.47186427071721]\n###########################\n(0.07676971426650779, -0.005066981343180608, (0.0, 0.0, 0.0, 0.0, 0.0, 0.0), 1.4811249245025686)\n(-0.0012233499340806766, -0.0003965306318940645, (0.0, 0.0, 0.0, 0.0, 0.0, 0.0), 0.029241492315359937)\n(-0.008213992807956783, -0.0021042345885371487, (0.0, 0.0, 0.0, 0.0, 0.0, 0.0), 0.9084241106205775)\n(0.20594813185074118, -0.013688682146213188, (0.0, 0.0, 0.0, 0.0, 0.0, 0.0), 1.0914498524911405)\n(-0.09548170364201745, 0.005398031421261899, (0.0, 0.0, 0.0, 0.0, 0.0, 0.0), -1.7835815330195328)\n"
    }
   ],
   "source": [
    "print(joint_states)\n",
    "print('###########################')\n",
    "print(joint_states[0])\n",
    "print(joint_states[1])\n",
    "print(joint_states[2])\n",
    "print(joint_states[3])\n",
    "print(joint_torques)\n",
    "print('###########################')\n",
    "print(joint_states[4])\n",
    "print(joint_states[5])\n",
    "print(joint_states[6])\n",
    "print(joint_states[7])\n",
    "print(joint_states[8])"
   ]
  },
  {
   "cell_type": "code",
   "execution_count": 13,
   "metadata": {
    "tags": []
   },
   "outputs": [],
   "source": [
    "# Convert trajectories for plotting\n",
    "nx = len(des_positions[0])\n",
    "nu = len(des_torques[0])\n",
    "X_des, X_act = [0.] * nx, [0.] * nx\n",
    "U_des, U_act = [0.] * nu, [0.] * nu \n",
    "X_base_trajecory_des, X_basePosition_act = [0.] * 15, [0.] * 3\n",
    "for i in range(nx):\n",
    "        X_des[i] = [x[i] for x in des_positions]\n",
    "        X_act[i] = [x[i] for x in act_positions]\n",
    "for i in range(nu):\n",
    "        U_des[i] = [u[i] for u in des_torques]\n",
    "        U_act[i] = [u[i] for u in act_torques]\n",
    "for i in range(15):\n",
    "        X_base_trajecory_des[i] = [x[i] for x in des_base_trajectories]\n",
    "for i in range(3):\n",
    "        X_basePosition_act[i] = [x[i] for x in act_base_positions]\n"
   ]
  },
  {
   "cell_type": "code",
   "execution_count": 14,
   "metadata": {
    "tags": []
   },
   "outputs": [],
   "source": [
    "# # Plotting joint tracking error\n",
    "# plt.figure(1, figsize=(16,13)) # (16,9) for bigger headings\n",
    "# torsoJointNames = ['BodyPitch','BodyRoll','BodyYaw']\n",
    "# legJointNames = ['Hip1', 'Hip2', 'Hip3', 'Knee', 'AnkleRoll', 'AnklePitch'] \n",
    "# ax1 = plt.subplot(3, 1, 1)\n",
    "# [plt.plot(X_des[k], label=torsoJointNames[i]+'_des', linestyle=':') for i, k in enumerate(range(0, 3))]\n",
    "# plt.gca().set_prop_cycle(None) # Reset used colors\n",
    "# [plt.plot(X_act[k], label=torsoJointNames[i]+'_act') for i, k in enumerate(range(0, 3))]\n",
    "# plt.setp(ax1.get_xticklabels(), visible=False) # Don't show x numbers\n",
    "# plt.legend(loc='upper right')\n",
    "# plt.ylabel('Torso')\n",
    "# # left foot\n",
    "# ax2 = plt.subplot(3, 1, 2)\n",
    "# [plt.plot(X_des[k], label=legJointNames[i]+'_des', linestyle=':') for i, k in enumerate(range(3, 9))]\n",
    "# plt.gca().set_prop_cycle(None)\n",
    "# [plt.plot(X_act[k], label=legJointNames[i]+'_act') for i, k in enumerate(range(3, 9))]\n",
    "# plt.setp(ax2.get_xticklabels(), visible=False)\n",
    "# plt.ylabel('LF')\n",
    "# plt.legend(loc='upper right')\n",
    "# # right foot\n",
    "# plt.subplot(3, 1, 3)\n",
    "# [plt.plot(X_des[k], label=legJointNames[i]+'_des', linestyle=':') for i, k in enumerate(range(9, 15))]\n",
    "# plt.gca().set_prop_cycle(None)\n",
    "# [plt.plot(X_act[k], label=legJointNames[i]+'_act') for i, k in enumerate(range(9, 15))]\n",
    "# plt.ylabel('RF')\n",
    "# plt.xlabel('t [ms]')\n",
    "# plt.legend(loc='upper right')\n",
    "# plt.savefig(saveDir + 'pybulletTracking.pdf', facecolor='w', dpi = 300, bbox_inches='tight')\n",
    "# plt.show()\n",
    "\n",
    "# # Plotting torque difference # TODO: If considering full model, the indices for all plots have to be adjusted!\n",
    "# plt.figure(2, figsize=(16,9)) # (16,9) for bigger headings\n",
    "# # floating base\n",
    "# ax1 = plt.subplot(3, 1, 1)\n",
    "# [plt.plot(U_des[k], label=torsoJointNames[i]+'_des', linestyle=':') for i, k in enumerate(range(0, 3))]\n",
    "# plt.gca().set_prop_cycle(None)\n",
    "# [plt.plot(U_act[k], label=torsoJointNames[i]+'_act') for i, k in enumerate(range(0, 3))]\n",
    "# plt.setp(ax1.get_xticklabels(), visible=False)\n",
    "# plt.legend()\n",
    "# plt.ylabel('Torso')\n",
    "# # left foot\n",
    "# ax2 = plt.subplot(3, 1, 2)\n",
    "# [plt.plot(U_des[k], label=legJointNames[i]+'_des', linestyle=':') for i, k in enumerate(range(3, 9))]\n",
    "# plt.gca().set_prop_cycle(None)\n",
    "# [plt.plot(U_act[k], label=legJointNames[i]+'_act') for i, k in enumerate(range(3, 9))]\n",
    "# plt.ylabel('LF')\n",
    "# plt.legend()\n",
    "# # right foot\n",
    "# plt.subplot(3, 1, 3)\n",
    "# [plt.plot(U_des[k], label=legJointNames[i]+'_des', linestyle=':') for i, k in enumerate(range(9, 15))]\n",
    "# plt.gca().set_prop_cycle(None)\n",
    "# [plt.plot(U_act[k], label=legJointNames[i]+'_act') for i, k in enumerate(range(9, 15))]\n",
    "# [plt.plot(U_des[k], label=legJointNames[i]+'_des', linestyle=':') for i, k in enumerate(range(9, 12))]\n",
    "# plt.gca().set_prop_cycle(None)\n",
    "# [plt.plot(U_act[k], label=legJointNames[i]+'_act') for i, k in enumerate(range(9, 12))]\n",
    "# plt.ylabel('RF')\n",
    "# plt.xlabel('t [ms]')\n",
    "# plt.legend()\n",
    "# plt.savefig(saveDir + 'pybulletTorques.pdf', facecolor='w', dpi = 300, bbox_inches='tight')\n",
    "# plt.show()\n",
    "\n",
    "# # Plotting floating base difference\n",
    "# plt.figure(3, figsize=(16,9))\n",
    "# baseTranslationNames = ['X', 'Y', 'Z']\n",
    "# # [plt.plot(X_basePosition_des[k], label=baseTranslationNames[i], linestyle=':') for i, k in enumerate(range(0, 3))]\n",
    "# # [plt.plot(X_basePosition_act[k], label=baseTranslationNames[i]) for i, k in enumerate(range(0, 3))]\n",
    "# ax1 = plt.subplot(3, 1, 1)\n",
    "# plt.plot(X_base_trajecory_des[0], label='des', linestyle=':')\n",
    "# plt.plot(X_basePosition_act[0], label='act')\n",
    "# plt.setp(ax1.get_xticklabels(), visible=False)\n",
    "# plt.ylabel('X [m]')\n",
    "# plt.legend()\n",
    "# ax2 = plt.subplot(3, 1, 2)\n",
    "# plt.plot(X_base_trajecory_des[1], linestyle=':')\n",
    "# plt.plot(X_basePosition_act[1])\n",
    "# plt.setp(ax2.get_xticklabels(), visible=False)\n",
    "# plt.ylabel('Y [m]')\n",
    "# ax3 = plt.subplot(3, 1, 3)\n",
    "# plt.plot(X_base_trajecory_des[2], linestyle=':')\n",
    "# plt.plot(X_basePosition_act[2])\n",
    "# plt.ylabel('Z [m]')\n",
    "# plt.xlabel('t [ms]')\n",
    "# plt.savefig(saveDir + 'pybulletBase.pdf', bbox_inches = 'tight', dpi = 300)\n",
    "\n",
    "\n",
    "# # For fast executing: Convert .ipynb to .pylint.d\n",
    "# # $ jupyter nbconvert --to python StabilizeOptimalTrajectories.ipynb"
   ]
  },
  {
   "cell_type": "code",
   "execution_count": null,
   "metadata": {},
   "outputs": [],
   "source": []
  }
 ],
 "metadata": {
  "kernelspec": {
   "display_name": "Python 3",
   "language": "python",
   "name": "python3"
  },
  "language_info": {
   "codemirror_mode": {
    "name": "ipython",
    "version": 3
   },
   "file_extension": ".py",
   "mimetype": "text/x-python",
   "name": "python",
   "nbconvert_exporter": "python",
   "pygments_lexer": "ipython3",
   "version": "3.6.9-final"
  }
 },
 "nbformat": 4,
 "nbformat_minor": 4
}