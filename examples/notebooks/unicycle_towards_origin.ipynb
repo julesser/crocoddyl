{
 "cells": [
  {
   "attachments": {
    "image.png": {
     "image/png": "[encoded data removed]"
    }
   },
   "cell_type": "markdown",
   "metadata": {},
   "source": [
    "# Starting example: the unicycle\n",
    "\n",
    "![image.png](attachment:image.png)\n",
    "\n",
    "An unicycle represents a kinematic model of a car where it's only possible to move in two directions, i.e. it drives forward and turns on the spot. Its dynamics has nonholonomic constraints because it cannot move sideways. Remember that nonholonomic constraints are nonintegral and has the form $\\mathbf{f(q,\\dot{q})=0}$.\n",
    "\n",
    "In this example, we define an optimal-control problem for the classical unicycle problem. Our goal is to drive the unicycle towards the origin but at the same time not too fast. For that, the cost function is described as the sum between the distance to the origin and the system speed.\n",
    "\n",
    "\n",
    "**Issue on Ubuntu 16.04**\n",
    "\n",
    "You need to upgrate the matplotlib library, please do:\n",
    " - pip install --upgrade --user pip\n",
    " - pip install --upgrade --user matplotlib\n",
    "\n",
    "Basically, our optimal control problem has the following dynamical model and cost function:"
   ]
  },
  {
   "cell_type": "code",
   "execution_count": 1,
   "metadata": {},
   "outputs": [],
   "source": [
    "import numpy as np\n",
    "x = np.random.rand(3) # 3 DOF [x,y,theta]\n",
    "u = np.random.rand(2) # 2 Actuators [thrust, steering]\n",
    "\n",
    "# Unicycle dynamical model\n",
    "v, w = u\n",
    "c, s = np.cos(x[2]), np.sin(x[2])\n",
    "dt = 1e-2\n",
    "dx = np.array([v * c, v * s, w])\n",
    "xnext = x + dx * dt\n",
    "\n",
    "# Cost function: driving to origin (state) and reducing speed (control)\n",
    "stateWeight = 1 # penalizing bad performance\n",
    "ctrlWeight = 1  # penalizing high actuator effort\n",
    "costResiduals = np.concatenate([stateWeight*x,ctrlWeight*u])\n",
    "cost = .5* sum(costResiduals**2)"
   ]
  },
  {
   "cell_type": "markdown",
   "metadata": {},
   "source": [
    "For this basic example, the unicycle model is coded in the library. We will just load it and use it. If you are very curious, have a look! It is in `crocoddyl/unicycle.py`. "
   ]
  },
  {
   "cell_type": "markdown",
   "metadata": {},
   "source": [
    "We create such a model with the following lines:"
   ]
  },
  {
   "cell_type": "code",
   "execution_count": 2,
   "metadata": {},
   "outputs": [],
   "source": [
    "import crocoddyl\n",
    "model = crocoddyl.ActionModelUnicycle()\n",
    "data = model.createData()"
   ]
  },
  {
   "cell_type": "markdown",
   "metadata": {},
   "source": [
    "The action model contains ... well ... the description of the dynamics and cost function. There you find also the action model parameters (here the time step and the cost weights). On the other hand, the data has the buffers where the results of the calculus are stored.\n",
    "\n",
    "We decided for this separation for an obvious reason that is given just below."
   ]
  },
  {
   "cell_type": "code",
   "execution_count": 3,
   "metadata": {},
   "outputs": [],
   "source": [
    "model.costWeights = np.matrix([\n",
    "    3,   # state weight\n",
    "    1  # control weight\n",
    "]).T"
   ]
  },
  {
   "cell_type": "markdown",
   "metadata": {},
   "source": [
    "**You can further understand the mathematical definition of action models see introduction_to_crocoddyl.ipynb**"
   ]
  },
  {
   "cell_type": "markdown",
   "metadata": {},
   "source": [
    "## I. Defining the shooting problem\n",
    "A shooting problem is defined by the initial state from which computing the rollout and a sequence of action models.\n"
   ]
  },
  {
   "cell_type": "code",
   "execution_count": 4,
   "metadata": {},
   "outputs": [],
   "source": [
    "x0 = np.matrix([ -4, -4, 0 ]).T #x,y,theta\n",
    "T  = 20\n",
    "problem = crocoddyl.ShootingProblem(x0, [ model ] * T, model)"
   ]
  },
  {
   "cell_type": "markdown",
   "metadata": {},
   "source": [
    "Here we define a problem starting from $\\mathbf{x}_0$ with 20 timesteps (of 0.1 sec by default implementation of unicycle). The terminal action model is defined using the running action model.\n",
    "\n",
    "This defines the model, not any algorithm to solve it. The only computation that the problem can provide is to integrate the system for a given sequence of controls."
   ]
  },
  {
   "cell_type": "code",
   "execution_count": 5,
   "metadata": {},
   "outputs": [],
   "source": [
    "us = [np.matrix([1., 1.]).T for _ in range(T)]\n",
    "xs = problem.rollout(us)"
   ]
  },
  {
   "cell_type": "markdown",
   "metadata": {},
   "source": [
    "The plotUnicycle function plots the system as two arrows that represent the wheels"
   ]
  },
  {
   "cell_type": "code",
   "execution_count": 6,
   "metadata": {},
   "outputs": [
    {
     "data": {
      "text/plain": [
       "[-5.0, 1.0, -5.0, 1.0]"
      ]
     },
     "execution_count": 6,
     "metadata": {},
     "output_type": "execute_result"
    },
    {
     "data": {
      "image/png": "[encoded data removed]",
      "text/plain": [
       "<Figure size 432x288 with 1 Axes>"
      ]
     },
     "metadata": {
      "needs_background": "light"
     },
     "output_type": "display_data"
    }
   ],
   "source": [
    "%matplotlib inline\n",
    "from unicycle_utils import plotUnicycle\n",
    "for x in xs: plotUnicycle(x)\n",
    "plt.axis([-5.,1.,-5.,1.])"
   ]
  },
  {
   "cell_type": "markdown",
   "metadata": {},
   "source": [
    "## II. Solve the OCP\n",
    "The main solver is named SolverDDP. It is initialized from the problem object and mostly contains the ddp.solve method. We can warm start it and tune the parameters, but for the simple unicycle, let's just solve it!"
   ]
  },
  {
   "cell_type": "code",
   "execution_count": 7,
   "metadata": {},
   "outputs": [],
   "source": [
    "ddp = crocoddyl.SolverDDP(problem)\n",
    "done = ddp.solve()\n",
    "assert done"
   ]
  },
  {
   "cell_type": "code",
   "execution_count": 8,
   "metadata": {},
   "outputs": [
    {
     "data": {
      "text/plain": [
       "[-5.0, 1.0, -5.0, 1.0]"
      ]
     },
     "execution_count": 8,
     "metadata": {},
     "output_type": "execute_result"
    },
    {
     "data": {
      "image/png": "[encoded data removed]",
      "text/plain": [
       "<Figure size 432x288 with 1 Axes>"
      ]
     },
     "metadata": {
      "needs_background": "light"
     },
     "output_type": "display_data"
    }
   ],
   "source": [
    "plt.clf()\n",
    "for x in ddp.xs: plotUnicycle(x)\n",
    "plt.axis([-5.,1.,-5.,1.])"
   ]
  },
  {
   "cell_type": "markdown",
   "metadata": {},
   "source": [
    "and the final state is:"
   ]
  },
  {
   "cell_type": "code",
   "execution_count": 9,
   "metadata": {},
   "outputs": [
    {
     "name": "stdout",
     "output_type": "stream",
     "text": [
      "[[ 0.03379973]\n",
      " [-0.30646301]\n",
      " [ 0.02773356]]\n"
     ]
    }
   ],
   "source": [
    "print(ddp.xs[-1])"
   ]
  },
  {
   "cell_type": "markdown",
   "metadata": {},
   "source": [
    "# Well, the terminal state is not so nicely in the origin.\n",
    "\n",
    "Question 1: why?\n",
    "\n",
    "Question 2: How can you change this?\n",
    "\n",
    "Question 3: by changing the cost parameters, the time horizon and the initial position, can you trigger a maneuver?"
   ]
  }
 ],
 "metadata": {
  "kernelspec": {
   "display_name": "Python 3",
   "language": "python",
   "name": "python3"
  },
  "language_info": {
   "codemirror_mode": {
    "name": "ipython",
    "version": 3
   },
   "file_extension": ".py",
   "mimetype": "text/x-python",
   "name": "python",
   "nbconvert_exporter": "python",
   "pygments_lexer": "ipython3",
   "version": "3.6.9"
  }
 },
 "nbformat": 4,
 "nbformat_minor": 2
}
