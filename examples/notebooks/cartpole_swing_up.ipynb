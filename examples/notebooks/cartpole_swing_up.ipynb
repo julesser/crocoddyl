{
 "cells": [
  {
   "attachments": {
    "image.png": {
     "image/png": "[encoded data removed]"
    }
   },
   "cell_type": "markdown",
   "metadata": {},
   "source": [
    "# Cartpole optimal control problem\n",
    "\n",
    "![image.png](attachment:image.png)\n",
    "\n",
    "A cartpole is another classical example of control. In this system, an underactuated pole is attached on top of a 1D actuacted cart. The game is to raise the pole to a standing position.\n",
    "\n",
    "The model is here:\n",
    "https://en.wikipedia.org/wiki/Inverted_pendulum\n",
    "\n",
    "We denote by $m_1$ the cart mass, $m_2$ the pole mass ($m=m_1+m_2$), $l$ the pole length, $\\theta$ the pole angle w.r.t. the vertical axis, $p$ the cart position, and $g=$9.81 the gravity.\n",
    "\n",
    "The system acceleration can be rewritten as:\n",
    "\n",
    "$$\\ddot{\\theta} = \\frac{1}{\\mu(\\theta)} \\big( \\frac{\\cos \\theta}{l} f + \\frac{mg}{l} \\sin(\\theta) - m_2 \\cos(\\theta) \\sin(\\theta) \\dot{\\theta}^2\\big),$$\n",
    "\n",
    "$$\\ddot{p} = \\frac{1}{\\mu(\\theta)} \\big( f + m_2 \\cos(\\theta) \\sin(\\theta) g -m_2 l \\sin(\\theta) \\dot{\\theta} \\big),$$\n",
    "\n",
    "$\\hspace{12em}$with $$\\mu(\\theta) = m_1+m_2 \\sin(\\theta)^2,$$\n",
    "\n",
    "where $f$ represents the input command (i.e $f=u$) and $m=m_1+m_2$ is the total mass.\n"
   ]
  },
  {
   "cell_type": "markdown",
   "metadata": {},
   "source": [
    "## I. Differential Action Model\n",
    "\n",
    "A Differential Action Model (DAM) describes the action (control/dynamics) in continous-time. In this exercise, we ask you to write the equation of motions for the cartpole.\n",
    "\n",
    "For more details, see the instructions inside the DifferentialActionModelCartpole class."
   ]
  },
  {
   "cell_type": "code",
   "execution_count": 1,
   "metadata": {},
   "outputs": [],
   "source": [
    "import crocoddyl\n",
    "import pinocchio\n",
    "import numpy as np\n",
    "from IPython.display import HTML\n",
    "from cartpole_utils import animateCartpole\n",
    "\n",
    "\n",
    "class DifferentialActionModelCartpole(crocoddyl.DifferentialActionModelAbstract):\n",
    "    def __init__(self):\n",
    "        crocoddyl.DifferentialActionModelAbstract.__init__(self, crocoddyl.StateVector(4), 1, 6)  # nu = 1; nr = 6\n",
    "        self.unone = np.zeros(self.nu)\n",
    "\n",
    "        self.m1 = 1.\n",
    "        self.m2 = .1\n",
    "        self.l  = .5\n",
    "        self.g  = 9.81\n",
    "        self.costWeights = [1., 1., 0.1, 0.001, 0.001, 1.]  # sin, 1-cos, x, xdot, thdot, f\n",
    "        \n",
    "    def calc(self, data, x, u=None):\n",
    "        if u is None: \n",
    "            u = model.unone\n",
    "        # Getting the state and control variables\n",
    "        y, th, ydot, thdot = x[0].item(), x[1].item(), x[2].item(), x[3].item()\n",
    "        f = u[0].item()\n",
    "\n",
    "        # Shortname for system parameters\n",
    "        m1, m2, l, g = self.m1, self.m2, self.l, self.g\n",
    "        s, c = np.sin(th), np.cos(th)\n",
    "\n",
    "        m = m1 + m2\n",
    "        mu = m1 + m2 * s ** 2\n",
    "        xddot, thddot = cartpole_dynamics(self, data, x, u)  # Write the cartpole dynamics here\n",
    "        data.xout = np.matrix([ xddot, thddot ]).T\n",
    "        \n",
    "        # Computing the cost residual and value\n",
    "        data.r = np.matrix(self.costWeights * np.array([ s, 1 - c, y, ydot, thdot, f ])).T\n",
    "        data.cost = .5 * sum(np.asarray(data.r) ** 2).item()\n",
    "\n",
    "    def calcDiff(model,data,x,u=None):\n",
    "        # Advance user might implement the derivatives in cartpole_analytical_derivatives\n",
    "        cartpole_analytical_derivatives(model, data, x, u)"
   ]
  },
  {
   "cell_type": "markdown",
   "metadata": {},
   "source": [
    "You can get the solution of the cartpole dynamics by uncommenting the following line:"
   ]
  },
  {
   "cell_type": "code",
   "execution_count": 2,
   "metadata": {},
   "outputs": [],
   "source": [
    "cartpoleDAM = DifferentialActionModelCartpole()\n",
    "cartpoleData = cartpoleDAM.createData()\n",
    "x = cartpoleDAM.state.rand()\n",
    "u = np.zeros(1)\n",
    "cartpoleDAM.calc(cartpoleData, x, u)"
   ]
  },
  {
   "cell_type": "markdown",
   "metadata": {},
   "source": [
    "You may want to check your computation. Here is how to create the model and run the calc method."
   ]
  },
  {
   "cell_type": "code",
   "execution_count": 3,
   "metadata": {},
   "outputs": [],
   "source": [
    "cartpoleDAM = DifferentialActionModelCartpole()\n",
    "cartpoleData = cartpoleDAM.createData()\n",
    "x = cartpoleDAM.state.rand()\n",
    "u = np.zeros(1)\n",
    "cartpoleDAM.calc(cartpoleData, x, u)"
   ]
  },
  {
   "cell_type": "markdown",
   "metadata": {},
   "source": [
    "## II. Write the derivatives with DAMNumDiff\n",
    "\n",
    "In the previous exercise, we didn't define the derivatives of the cartpole system. In crocoddyl, we can compute them without any additional code thanks to the DifferentialActionModelNumDiff class. This class computes the derivatives through numerical differentiation.\n",
    "\n",
    "In the following cell, you need to create a cartpole DAM that computes the derivates using NumDiff."
   ]
  },
  {
   "cell_type": "code",
   "execution_count": 4,
   "metadata": {},
   "outputs": [],
   "source": [
    "# Creating the carpole DAM using NumDiff for computing the derivatives.\n",
    "# We specify the withGaussApprox=True to have approximation of the\n",
    "# Hessian based on the Jacobian of the cost residuals.\n",
    "cartpoleND = crocoddyl.DifferentialActionModelNumDiff(cartpoleDAM, True)"
   ]
  },
  {
   "cell_type": "markdown",
   "metadata": {},
   "source": [
    "After creating your cartpole DAM with NumDiff. We would like that you answer the follows:\n",
    "\n",
    " - 2 columns of Fx are null. Wich ones? Why?\n",
    "\n",
    " - can you double check the values of Fu?\n"
   ]
  },
  {
   "cell_type": "code",
   "execution_count": 5,
   "metadata": {},
   "outputs": [],
   "source": [
    "timeStep = 5e-2\n",
    "cartpoleIAM = crocoddyl.IntegratedActionModelEuler(cartpoleND, timeStep)"
   ]
  },
  {
   "cell_type": "markdown",
   "metadata": {},
   "source": [
    "## III. Integrate the model\n",
    "\n",
    "After creating DAM for the cartpole system. We need to create an Integrated Action Model (IAM). Remenber that an IAM converts the continuos-time action model into a discrete-time action model. For this exercise we'll use a simpletic Euler integrator."
   ]
  },
  {
   "cell_type": "code",
   "execution_count": 6,
   "metadata": {},
   "outputs": [],
   "source": [
    "# Fill the number of knots (T) and the time step (dt)\n",
    "x0 = np.matrix([ 0., 3.14, 0., 0. ]).T\n",
    "T  = 50\n",
    "problem = crocoddyl.ShootingProblem(x0, [ cartpoleIAM ]*T, cartpoleIAM)"
   ]
  },
  {
   "cell_type": "markdown",
   "metadata": {},
   "source": [
    "## IV. Write the problem, create the solver\n",
    "\n",
    "First, you need to describe your shooting problem. For that, you have to indicate the number of knots and their time step. For this exercise we want to use 50 knots with $dt=$5e-2.\n",
    "\n",
    "Here is how we create the problem."
   ]
  },
  {
   "cell_type": "code",
   "execution_count": 7,
   "metadata": {},
   "outputs": [],
   "source": [
    "# Fill the number of knots (T) and the time step (dt)\n",
    "x0 = np.array([0., 3.14, 0., 0.])\n",
    "T = 50\n",
    "problem = crocoddyl.ShootingProblem(x0, [cartpoleIAM] * T, cartpoleIAM)"
   ]
  },
  {
   "cell_type": "markdown",
   "metadata": {},
   "source": [
    "Problem can not solve, just integrate:"
   ]
  },
  {
   "cell_type": "code",
   "execution_count": 8,
   "metadata": {},
   "outputs": [],
   "source": [
    "us = [np.zeros(cartpoleIAM.differential.nu)] * T\n",
    "xs = problem.rollout(us)"
   ]
  },
  {
   "cell_type": "markdown",
   "metadata": {},
   "source": [
    "In cartpole_utils, we provite a plotCartpole and a animateCartpole methods. Let's display this rollout!\n",
    "\n",
    "Note that to_jshtml spawns the video control commands."
   ]
  },
  {
   "cell_type": "code",
   "execution_count": 10,
   "metadata": {},
   "outputs": [
    {
     "data": {
      "text/html": [
       "<video width=\"432\" height=\"288\" controls autoplay loop>\n",
       "  <source type=\"video/mp4\" src=\"data:video/mp4;base64,AAAAHGZ0eXBNNFYgAAACAGlzb21pc28yYXZjMQAAAAhmcmVlAAAshW1kYXQAAAKuBgX//6rcRem9\n",
       "5tlIt5Ys2CDZI+7veDI2NCAtIGNvcmUgMTUyIHIyODU0IGU5YTU5MDMgLSBILjI2NC9NUEVHLTQg\n",
       "QVZDIGNvZGVjIC0gQ29weWxlZnQgMjAwMy0yMDE3IC0gaHR0cDovL3d3dy52aWRlb2xhbi5vcmcv\n",
       "eDI2NC5odG1sIC0gb3B0aW9uczogY2FiYWM9MSByZWY9MyBkZWJsb2NrPTE6MDowIGFuYWx5c2U9\n",
       "MHgzOjB4MTEzIG1lPWhleCBzdWJtZT03IHBzeT0xIHBzeV9yZD0xLjAwOjAuMDAgbWl4ZWRfcmVm\n",
       "PTEgbWVfcmFuZ2U9MTYgY2hyb21hX21lPTEgdHJlbGxpcz0xIDh4OGRjdD0xIGNxbT0wIGRlYWR6\n",
       "b25lPTIxLDExIGZhc3RfcHNraXA9MSBjaHJvbWFfcXBfb2Zmc2V0PS0yIHRocmVhZHM9OSBsb29r\n",
       "YWhlYWRfdGhyZWFkcz0xIHNsaWNlZF90aHJlYWRzPTAgbnI9MCBkZWNpbWF0ZT0xIGludGVybGFj\n",
       "ZWQ9MCBibHVyYXlfY29tcGF0PTAgY29uc3RyYWluZWRfaW50cmE9MCBiZnJhbWVzPTMgYl9weXJh\n",
       "bWlkPTIgYl9hZGFwdD0xIGJfYmlhcz0wIGRpcmVjdD0xIHdlaWdodGI9MSBvcGVuX2dvcD0wIHdl\n",
       "aWdodHA9MiBrZXlpbnQ9MjUwIGtleWludF9taW49MjAgc2NlbmVjdXQ9NDAgaW50cmFfcmVmcmVz\n",
       "aD0wIHJjX2xvb2thaGVhZD00MCByYz1jcmYgbWJ0cmVlPTEgY3JmPTIzLjAgcWNvbXA9MC42MCBx\n",
       "cG1pbj0wIHFwbWF4PTY5IHFwc3RlcD00IGlwX3JhdGlvPTEuNDAgYXE9MToxLjAwAIAAAAjTZYiE\n",
       "AD///vdonwKbWkN6gOSVxSXbT4H/q2dwfI/pAwAAAwAArq0zP4RxVZgPML+Mozn97AnzTv36g8uy\n",
       "+ufrv+R8wcVM9fL5CTcj5AACaYox4Duu+GLQnAMxoiaHLOWAQEY6Ek0+pdAE+lxitFohkgePLJKk\n",
       "jxljL1yrwQj9rdOW70Wv6jBtDnsgpmZuJFOQLfSbHfuYwesjjTn1cEMR7/kGMVJJq8PQEkXNVRqO\n",
       "aurfHtR5CHvSoMOMUiB23+IPZIjTZ26RTVrNlzJBprlCQrFo4bcZVWnYUtCAxbhBUQqZ+zwFDfWE\n",
       "kWVIN59vVBaP26JPwK/4CcXdVLF4LBDAldCK22C1URRt29UMswXG3zVV5b43wHWmbfa1uFGZKoPT\n",
       "abxeRMzvVxQOG6i5mzN0V2adr4GxBwDe7Ahhaxb67cqW9eHQtVk787Z2rjSpIk0m+x/q6M6WU646\n",
       "ejR1zj5f9aHP/D3n+BzpTs7f4lOFwmVYobFr0HQ+mFfQPYjL+KfLul/FDPseLGLwCI51IEa8hHHy\n",
       "7/53hL0wEF+FaQ6QPmRGu+VKWkUEomCDfj2PuYTXjw7vmdVgJxY9NDRgXMRmIdW9F3HbWYF3feRE\n",
       "cefqHRBCmyIJpdgzWzFe4+jJGBxCLXEpPGqze2rJLrvj74DNkOxty3bT1TzA1j9ow6wDh14WdxZv\n",
       "2L4BJiz+618GgrKi07rb6jisKSJCJ5zo+q9B5LuuOTO+VxuNPSHJiE3fBQDo3RTmZol4TxJL+YYG\n",
       "sFeyFcTUvu5I+mBLzBXcCWApGwNAdhRUqkWgt4HXQBzX9VejIOQloH3JzXau8GCI/nmitHAt2AJX\n",
       "PNBVzMox3QObcuPdclIABJOsHQWDLvV7mbZnJdSPWUa/rQR7VhuBQCq4YzLMBiOp9XO5UyPslhX2\n",
       "vTcVnS3Upjp1a5Vn1kZ2JUVvYB/o2m8KS6P2bYopPh/cwvFQRMik/PMcy+mu7yKme0OWad2vy1DF\n",
       "hBuIMLjvvEqBOKN79YDcEcGc8htspFFQmM5REtIjxx7FTeuTWi5l2SQTOewbvEzGsGgjIF4Xo5tJ\n",
       "k+aEHTNypF8kXoeBD4iItiFWkuwXlDzfe0BlUETMNp6Pl3NNH0nZcaDQhOFGanOw0hxwgMqHYs3Z\n",
       "IuLRx5ltq4uji2SVFI7rsaHn5dqxQUbVVw78WTynloG6u4i4RnmBeOhrHao6bYtpQtrX0kdtzIV/\n",
       "iQLn+pnch7qxV1Kna/2uIA5V3tSJIf5l0whhs5RMcyc1609REs/0J4mS+ON21xY19athI2ckVs1Z\n",
       "HvlwXCH4l0L/11442Lj8RNtlLtb7rSWDdCb4NxCPX/SQA+1oGrOeTvVmK1O5XpdZPEb4a0iYGSZC\n",
       "XENbT195AG6wt6AZ2Ou/D3z4efhKSZhhikz19bVlBDDJ3Dxvu0L8EECxg1yetGbnbQFyb/QHXN35\n",
       "1kDqOnMF8BwLgNWQvx3jKacJUcqI5k4sduF8uNM7yqUpO8IA5E9MNzvXHItzO8SXiBN7mNbLFraO\n",
       "FHJ/ai8JM/1oLA/ITOoNbfkbPYrGvVbrHmNthXYO2daTZbCrhoxA02hAOgFYsNjfUzemkzWxXvt7\n",
       "RMNizhhthJO4ANBx7bS5clS3OJNpPVXHkE2/0lj+9QgsrUr/nx3ob7m8y+vYqdgnWnTyn1ec7RC1\n",
       "7nSX6MwJtGcah6OtXoBgUzja2AjBwhIXK6ay7UF7ThU9DjgRZhqpLES485PpK3UE3CjJKlBDjXXo\n",
       "DX+DgOID8aGyHNVtYRNdwU4ZTxNxc5LYI4nN8XJEfRHo3oKcBR8k3YKtSa0Tq6U6b7TVTqgb+PdG\n",
       "oFQ+kuk8TS87Hl4Jh+ux1UvkYzwa6O4P4BfCpzCiKvqIdmBdGvTqZobrqQhr8m0IuvYnxOxSLzwr\n",
       "M2Ufst3jsBZdudV08++BhIIrNe4lE4v2u8enwsWj2YVlsfq1BA2qeKx7f7wZ9/+RO2aVY3pAHmXe\n",
       "9vkwxxWl2WsO/wTsAW/qSI9WMLyOLWBv632ZhAJOYnWcqcgHga/5/eaNTLO7f/+wFJm1vkyhXsRF\n",
       "1HRAb8mW+BNVj2Z/MCFYs9yzyneZ3quGZy818qYwldaYNIe3Yv/eMILr8pWvU7czCHCX+aBRPk5t\n",
       "lKdj2AnqOlIawRJes7JP3c5jC9gQ/FWwY8haYY710njDbvGYe8N09eM6wKtcP9l9JqxtJdb6pLhT\n",
       "ZiNVLKO2g6flwowDsD9jwRlsjI03wgbNUgLRmLk2McvGbRt1NC29XyDa1IZfdUlDyMDmfdTwgbbB\n",
       "CQ+tw6zvCdFE4kUdef0//emOQHtocm+n1E9K1334rwiurrswa27//9RoRZpVPGSkXDsKze+uuwdI\n",
       "0ImgTauxHTvt0cwjzpG2qMHS4YONzSZECQMacp365zhukzLaoWeqth9ReKqSDRhAFmEUWi1P+GZG\n",
       "E2TQqf3/L4fRXVZW1qYozpTNUQ2yds7C+4H6gCE85Nmxcah+PhxDBeLCH+KOeRoNGYr9C0LXLHmV\n",
       "e8DxMZcW8zXKk1UvgARpTUFp9qpvbprMGXaxj3Yt1SQpcIqyDEEm7venRy3O1GuPcNjoZz7f/h/y\n",
       "8a2y8g33VyqtkI1h3aCJdi0GZfAM8e/1dOknVdqg1LZ/47JIZRihUvSzRRRtLiqrFKoW/WX6k2Y5\n",
       "xZE1hHObPMmG6ntTtiAT1yU6JkZWBD0eOdhwmakFTlOa83Is4GGnoIdaYzHqN3qDj816unGRyl0k\n",
       "K52iMW/La5hyvyXv0a5ASeBMmTZMxebTJohnE5S4SuxP+xr0RGmWklou7zDb95DZMzAuIiC2UF0j\n",
       "URIzBwqFoNvhNa7ACPkxkcQsF766B3U62+cXGCBi8KoCBg72HQqtxm4K8B5f9rh5yyyqphgzaYfj\n",
       "xjnJuhxXVOa5TrRVyUKl+H+fLcZOZ/X4jDpt7rKu5DYL7Zj+A1WMGQMKHC/R3Dr4lZhLEpZvPNeG\n",
       "esfgztQEC5xsjT2eyw4IrYE6ax0US9g4wXHtMFAM8ANrAAABPUGaJGxD//6plhPsxLiOZ37rs2HE\n",
       "UulZWPoAAAaiIrQiAOZPNgeNojs93eFy5hlD3rMSNed1nF5/lm5OBbXA4tx5TB22ywsBfTKGw/Jh\n",
       "vkzqPYBTwPDjmzMmZovgxgXnBJCq9mztO9CJTN4Ds69KIF0PkUALVjpJhPYgmOLqUpQMc+H18JSA\n",
       "V8NhBHMbutSqCy5IHo4fQajpTsaAmSZcb0yZ3NleG0LAd8TMhdunbwHcjcGmrbmabF/XTc2Zj+dx\n",
       "AvljoFuUhGDaCTpfHSC613TK12w7++pcX+CoH3/9lI2Jfzj7ohVtdf7qmFb/mGSPpDZQp4+XmPGJ\n",
       "cPNEqLnVBwkGG1pFHIdGKP3CE2mbSr074TIHuccLh6pS63Zjd4Wxr5ymO0hN0l/u9anlM2lmhRaA\n",
       "3hgn2XttL6Y4mPjyAAAAb0GeQniGfwIV2aVAKufufxq+evzOhJlFckg5jlXkFMDVvqAEtWMF1Z2X\n",
       "fpC519schYmu4HdV+znUoSy9Db009ns4ucUFxM41BpvSqjcp3p4qY4wVHkr37x8AAAVmDvGh5Rka\n",
       "EiExjx3O28nwfhQL+QAAAEIBnmF0Qr8DmZsUAuck9GeSOBY1IEH8dR38c2TRdtxthpk6Mv2wWddw\n",
       "LdoiMmsp7HpjP9P7BAAA68LqRQMfg79gPOAAAABBAZ5jakK/A2pyU/nir2ivgicgYMQ/S1vE2RTZ\n",
       "Y2CQmWQ9k8L8IudUrXadM9r7fIELxElmF3LjkaZh7Zy4vbRH28kAAACkQZpoSahBaJlMCH///qmW\n",
       "EJzEuI5nfuuzYcRS6VlY+gAAMwLb8PyAAnb5E5rx9WuFYcEBqNnGQfo8kkclvj75iBYFY13xI/Rg\n",
       "SfDahmkMlP0Rw4+/T6FSWZu65Qa7C66eXEo4Rd65FGgctVDVjrSw3JMZMPtU0KwKCgiwf3otReG5\n",
       "6GFtnJZqRao4YlhTYX4lWVlJEDYcTX9kz2VG8Pxw5boupIEAAABcQZ6GRREsM/8B9gF4yTLsXsHs\n",
       "3jCC20m536E3oZSneX7ilRaAD+Nv3V+x5F7BatSAOIxaLCxxcReX0zz1+9UrV4P409Dc2Xs2b2wD\n",
       "zFS2u5IksmHBzJOaetPzj7kAAAA3AZ6ldEK/A2ft9VmxKg00dLgFlbT2czrC6NmylUFqa3XqlYbS\n",
       "nESyFHA2kOzVJ11J4oRiLRxSgQAAADEBnqdqQr8DAUZkfxGqcFibLKpwFBLz29DkV43rNc61Ky78\n",
       "wyFABi8QlNwA/8Vv+4iYAAAAo0GarEmoQWyZTAh///6plgtuYlxHM7912bDiKXSsrH0ACPk2rdAA\n",
       "Tt8hvPt/mZZ4iL3PaEL4yebLzVSuWd6vvPRHX57/h/GDLJ6+q23od9M2RHAORuDrvm6+4++a9EcB\n",
       "8n6iujuljvx9jkDCIFZI5iJnSsR0gt4vdtU0WG8bKJ4mn2NOJeIyEvZFZXEDGyiGEuPqwNvWBB+o\n",
       "QW27SLdd9BWvloAAAABXQZ7KRRUsM/8Btb27M4Vcfj12iTKcqyRFRofUiaC+MsmWAE7dcYzi0ARW\n",
       "NYL7Q7FswOr8bTaTlpJ2qaGJy+F05p6xBAAfxkQQ80NJLz8dHUvN9QweUGhBAAAAMQGe6XRCvwMB\n",
       "RmR/EapwWJssqnAUEvPb0ORXjegkLZPbUsfwvakwAo7hyMQEjYbo7EAAAAAyAZ7rakK/AwFGZH8R\n",
       "qnBYmyyqcBQS89vQ5FeN6T761K1h34IL0AA80l11NghWtHefzYAAAABnQZrwSahBbJlMCH///qmW\n",
       "C25iXEczv3XZsOIpdKysfQAI+NrsgAIg64l/ttEvPF/fORV0xVX3rjVgtghemd5GHh6J0e6rGV+I\n",
       "ocIovn0YMCAYFStzTuV7ttS2XYEhAC2BDL+CGfVz0QAAAGtBnw5FFSwz/wG1vbszhVx+PXaJMpyr\n",
       "JEVGh9SJoJ0nJYATt5MI+3/qIiOx7KkZbtqbfZ16siR5fit8ovx5L5IMnoqsDuYkptnWHHOvPddJ\n",
       "puEkCnapqzC46uAOLVMzwLDYy13v9ZPu2NDybwAAADEBny10Qr8DAUZkfxGqcFibLKpwFBLz29Dk\n",
       "V43oJJtUzmqSDCdygBixza9Zgivny7rRAAAALQGfL2pCvwMBRmR/EapwWJssqnAUEvPb0ORXjek+\n",
       "+tSsz25ntwAYutwCrU1/gQAAAKBBmzRJqEFsmUwIf//+qZYLbmJcRzO/ddmw4il0rKx9AAj5wVNi\n",
       "DwAfwObuLFWtCDiNgRpzfasdOMGcVhcN1EGoP7OxxajsTCDEW2FljmgwzBfbsgumtA8qvZ48yNfv\n",
       "FqaOc5Iw/g0yAMEDDlR5mNz8CI5Jerwe8qd31rKin3bVNFQvGygnZEM2tk3NV4bxxwRpFva4xdbI\n",
       "pxwVRsEQ0lxUAAAAV0GfUkUVLDP/AbW9uzOFXH49dokynKskRUaH1ImgzdV+gA/fJqdxyNG2ESGz\n",
       "Y6B9iOWpx8bSRpJUimpsmZofet3wNhE3tU0MNQQ3ZazbgBz67RYEtuLu4QAAACoBn3F0Qr8DAUZk\n",
       "fxGqcFibLKpwFBLz29DkV43roZ1qVhXCHoACOwkIMecAAAAqAZ9zakK/AwFGZH8RqnBYmyyqcBQS\n",
       "89vQ5FeN6zWaM7aljcgAOLGX9neUAAAAtUGbeEmoQWyZTAh///6plgtuYlxHM7912bDiKXSsrH0A\n",
       "CPja7IACdvkSu/HjWxcP0Uy/ButV2J2348e1E3zAB5gDM+i0rIqTCd5G5xzBGvYGxqXHW9aQ5IMG\n",
       "DfSVimjxZCswwAyIh9bHl9OJeZuQNMXNBJbGPlZ0HguDdOauN6wYhilwPMmP4ny8OYPxDYve7bUt\n",
       "j18mwQreB6Ff9kv7FIdI00eEdeG92NCGOR9AmeXIi196qYEAAABlQZ+WRRUsM/8Btb27M4Vcfj12\n",
       "iTKcqyRFRofUiaDN1X6AEtVDeVDx+X95RakBy955PEjINfV08zifzaYRtVvsDSb2d1FcD9L55YHL\n",
       "5yTH+9qmhiVo8tXGoQogGIiNF4TnKR2dRbwAAAAtAZ+1dEK/AwFGZH8RqnBYmyyqcBQS89vQ5FeN\n",
       "6CSbVM3PgfDMAOCyRWZXECHhAAAAKgGft2pCvwMBRmR/EapwWJssqnAUEvPb0ORXjes1zrUrAmPg\n",
       "B266KG7uQQAAAHVBm7xJqEFsmUwIf//+qZYLbmJcRzO/ddmw4il0rKx9AAj46eBAATt8eY8Lm8Gm\n",
       "wfodu8igwT2FyCxggbFALQlCZLzDgA+FPtLMXUOQ5AdZ0jVYybRFjlZxHsUFtqih60nv6MRyvdtq\n",
       "VQJ+Q4rIyrrXrKM+lQQAAABKQZ/aRRUsM/8Btb27M4Vcfj12iTKcqyRFRofUiaCQWJlsoAL15h+6\n",
       "i+Dnug3utS3EJ3BvS1l/tNvtqWktHQPcHUgGIdFQsNUMXNEAAAAqAZ/5dEK/AwFGZH8RqnBYmyyq\n",
       "cBQS89vQ5FeN66GdalZd7zeoAiaPWfvYAAAAKQGf+2pCvwMBRmR/EapwWJssqnAUEvPb0ORXjek+\n",
       "+tSsz25ntwAE2glJAAAAhEGb4EmoQWyZTAh///6plgtuYlxHM7912bDiKXSsrH0ACPm/GhX4AS1d\n",
       "lmf4hBC3ZFId2pVdklLuJEWnXcxjEkXhioT8PyBtnE/QSD+EEJi9dOxHbA2N2wkZQ5VnR+TToF4Z\n",
       "Yzc4ZrfgHP7tqmir4eWoAa0PN/upHpAWGg9drY7TN4BmYQAAAEVBnh5FFSwz/wG1vbszhVx+PXaJ\n",
       "MpyrJEVGh9SJoL2tBpYANG6G75bb8gcHEo1kiwMSZSW7alficvhdQhSACjqaFWp+gPAAAAAtAZ49\n",
       "dEK/AwFGZH8RqnBYmyyqcBQS89vQ5FeN66GdalmcWx1lzXABPuLbHDbwAAAAKwGeP2pCvwMBRmR/\n",
       "EapwWJssqnAUEvPb0ORXjek++tSzDb/ooAAT6JeTWmkAAAByQZokSahBbJlMCH///qmWC25iXEcz\n",
       "v3XZsOIpdKysfQAI+NrsgAIg7Cs/0ZtlaLvm3PtW+Gn3kltLhem6fCO26nF2jOuIjW5LdhfARUQ6\n",
       "T9zIke7aprrsCQgWhHLrQw9uWZ6+zaI7aloZPWzpjOFvEW5/AAAAZkGeQkUVLDP/AbW9uzOFXH49\n",
       "dokynKskRUaH1ImgyvOmSwAdofcLCTlk+KiveiYjl6T4yqi9TyLkqh+8vPTfq7mPBqylmecjOjFS\n",
       "ILnRD3GBEWcXapqyvgDJH+m4QC1thcxEyHe8PQAAACwBnmF0Qr8DAUZkfxGqcFibLKpwFBLz29Dk\n",
       "V43roZ1qVl35fAIDbtkrkMwUdgAAACkBnmNqQr8DAUZkfxGqcFibLKpwFBLz29DkV43pPvrUrM8g\n",
       "AWunknUHQQAAAJpBmmhJqEFsmUwIf//+qZYLbmJcRzO/ddmw4il0rKx9AAj47UHgAE6uVwzjdFKa\n",
       "TbM6yx0Nf0s8t2EdqZh6utPewHSVeQ8uoddpm2opAmioJDxS5YYS2GU7ehz5XdJfXCkYZ0yHiYz6\n",
       "s63oejypaU+u9zAukqQf/e7aplgtgz7cyS7u4SVCx55gLgh5+8J1a9ku85w6hJduyzehAAAAa0Ge\n",
       "hkUVLDP/AbW9uzOFXH49dokynKskRUaH1ImgzdV+gBLO+BCf/M7Gx/2aAFJ0YBNQP0oiOpVZ4vPN\n",
       "qX3T5MQrYhL8mrguwRhexkUAlbzUDEM7alpHlvjBafBWG/gJASjAtW+aCbnRNI2hAAAAKgGepXRC\n",
       "vwMBRmR/EapwWJssqnAUEvPb0ORXjegkm1TNz25VAG6UIFkTMQAAACsBnqdqQr8DAUZkfxGqcFib\n",
       "LKpwFBLz29DkV43rNc61Ky78vgAfaliapZmAAAAAhUGarEmoQWyZTAh///6plgtuYlxHM7912bDi\n",
       "KXSsrH0ACPja7IACdvkSuAcwAQJi4mQTawj5ne+eFZkOL5fYYK+mhAoooi+yZGD68w+3FM4MXlSt\n",
       "zosY/zrphVl8ZVldjDnwa/B0Y+aGRgRDJCToBOPOtq6pQ/n6kUPe1qWy6+TYAhxrXCoAAABdQZ7K\n",
       "RRUsM/8Btb27M4Vcfj12iTKcqyRFRofUiaDQLggBNXjLZVrc50REqnYk/uzHbAWehaYqgXfxB1Ix\n",
       "mveSANlNPWbvQdXFGaLO1TVmR9a6YABEJGhPaRPRUJFNAAAAJwGe6XRCvwMBRmR/EapwWJssqnAU\n",
       "EvPb0ORXjeuhnWpWr9AATt1rgAAAACgBnutqQr8DAUZkfxGqcFibLKpwFBLz29DkV43rNc61K1YQ\n",
       "EIAAjZFbAAAAhEGa8EmoQWyZTAh///6plgtuYlxHM7912bDiKXSsrH0ACPjp4EABO3vJKZev4wKa\n",
       "miJ5vcfVzdzDtChm2bWFg/Zw86sLT4eiqDdhtG14Cbn6vTzjVVaVweGb9xVKau+eXIOV7ttSqATs\n",
       "dyFM7P6mQ3jmp5WlXL2ZAAyZoPsnUkIhvkz5gQAAAElBnw5FFSwz/wG1vbszhVx+PXaJMpyrJEVG\n",
       "h9SJoJBYmWygAvTgU3T8V5I+mPlJcQndm9LRS+e4u1TVlouxigw94G2kOH9h1EGBAAAAKwGfLXRC\n",
       "vwMBRmR/EapwWJssqnAUEvPb0ORXjeuhnWpWs4AM39ILllshT4EAAAAqAZ8vakK/AwFGZH8RqnBY\n",
       "myyqcBQS89vQ5FeN6T761K1qIe+AC6QDUgXsAAAAmEGbNEmoQWyZTAh///6plgtuYlxHM7912bDi\n",
       "KXSsrH0ACPjp4EABdV2V54Wl7Xt2PbbeewvYpGTXvhGJZZC5aECa1p3ncl68R69ykIuj/katxTsf\n",
       "ahxF5YLM56waKER1ZVKQ4sa0fm8QFi7Ss4KXd7tqmWCfkrlvNr7ev/9ObK2tX115aQF5U5bX6LKD\n",
       "nCtrn7mYvfbMF/8wAAAAU0GfUkUVLDP/AbW9uzOFXH49dokynKskRUaH1Imgva0GlgBdRRLuGdRB\n",
       "PkXTDBU/FWmk80+EDfruASDNP79wU3tU0MTd12X+o4pegGRRrgHXNOgRAAAALgGfcXRCvwMBRmR/\n",
       "EapwWJssqnAUEvPb0ORXjegkm1TNz25ntwAyqufy5EU3NUAAAAAsAZ9zakK/AwFGZH8RqnBYmyyq\n",
       "cBQS89vQ5FeN6zXOtSsu/MR5egAG6MrGdzYAAABdQZt4SahBbJlMCH///qmWC25iXEczv3XZsOIp\n",
       "dKysfQAI+NrsgAJ27Cco0fLe2uF9Sn9Yy0X1ksgK5THwFN2L8BOgRw+OEwuFvmMfSa+SKbcdZXu2\n",
       "1LZdeN84SAG9AAAAYUGflkUVLDP/AbW9uzOFXH49dokynKskRUaH1ImgynJfewAX15MXIGjlUlVZ\n",
       "pf/ipa2icFe4aoI0XcMp4tN3KWI2Ot/qrbHcX4LloCSv5u1TVlghMPjGOGq0AMjHQlTM3dsAAAAs\n",
       "AZ+1dEK/AwFGZH8RqnBYmyyqcBQS89vQ5FeN66GdalZd77ijQAEKCPXTouEAAAAqAZ+3akK/AwFG\n",
       "ZH8RqnBYmyyqcBQS89vQ5FeN5CmdbVM3LwAFr0mAfpSBAAAAtEGbvEmoQWyZTAh///6plgtuYlxH\n",
       "M7912bDiKXSsrH0ACPjtQeAATrHla+3C7ba1vQjwxJoYjtlGm+TXhFQripajMcTHGcA6xGm/HUm/\n",
       "OEjg9Zo9PfeV7AzHk13jp/XuNlbBR9IHUXLC1xubPQsbEyrztyfONQz3ikzjkG2cLuAK0v4WxXlj\n",
       "EyDqla8vwVB3vuPp1J5+rAogdV/13balUAnIiT7TNqe9b37T2kutQhStRatboAAAAF1Bn9pFFSwz\n",
       "/wG1vbszhVx+PXaJMpyrJEVGh9SJoM3ZiEAH8FWUnuFi0QHGjtF6vETQbJF2YcXga1SWK0zsau4f\n",
       "8CCAf/GJ5aJ//e1TQxJ7NLZVsyQrgDn2AFoxy4EAAAAoAZ/5dEK/AwFGZH8RqnBYmyyqcBQS89vQ\n",
       "5FeNqHDn29alZztABiIq1wAAACwBn/tqQr8DAUZkfxGqcFibLKpwFBLz29DkV43pPvrUrM+BGATd\n",
       "AOIyK7VdkQAAAJFBm+BJqEFsmUwIf//+qZYLbmJcRzO/ddmw4il0rKx9AAj42uyAAnb5Ervxs0lk\n",
       "55kHi4tGdDJqEIzjv1wqBnk54acL2WkG/MUCL8A6mtmUgGWAej7Zlap/HAoT25j1f927UyiQXC+t\n",
       "2Iru1+82921TXXXwL9wVd7PsaViaGOQ2ZJISY4KqbDeYvMd9RAdtR4n3AAAAXEGeHkUVLDP/AbW9\n",
       "uzOFXH49dokynKskRUaH1Imgw7bpAQAmryRqsFJqp1r6HixaLU2l9UIVGFklqhyYGW5qq6QdhqgF\n",
       "/C8GmEh3apoYpNiC1BAAJr8yX7aTAFXAAAAAKQGePXRCvwMBRmR/EapwWJssqnAUEvPb0ORXjeuh\n",
       "nWpWr/uG6AAc64TAAAAAKAGeP2pCvwMBRmR/EapwWJssqnAUEvPb0ORXjes1zrUrVhAQgACNkVsA\n",
       "AAB3QZokSahBbJlMCH///qmWC25iXEczv3XZsOIpdKysfQAI+V+/5AATtIjzXjyG0S31ltL1Ouva\n",
       "zoX4OPQi/9dplbUkBv48jX1CIvUKhwsAuUBqkW/7ZiUxoHPbEon1+GVcLlasbgcT+7aplgBPtz4B\n",
       "hpcIpG4lfegAAABFQZ5CRRUsM/8Btb27M4Vcfj12iTKcqyRFRofUiaCXLLYAL6beFbO/p36tezfA\n",
       "fohzO+1lOTp+7alfhjTlUwgrJA+1Ib0VAAAAJwGeYXRCvwMBRmR/EapwWJssqnAUEvPb0ORXja69\n",
       "vWpWtIAAU107gAAAACgBnmNqQr8DAUZkfxGqcFibLKpwFBLz29DkV43pPvrUrWoh74AFxhZZAAAA\n",
       "hEGaaEmoQWyZTAh///6plgtuYlxHM7912bDiKXSsrH0ACPjp4EABdV2V5RubSZzlYrUsqPBOuiNB\n",
       "LI3tywNtknnILA4mkX+h0rV/w80pBrZ5dRe7+qoQii0+KdyGSxiwVPLNqxOZSQFXG0TcY1Ke7apt\n",
       "D+1LgDYQnBFArO7uOACrYoKUvQAAAFVBnoZFFSwz/wG1vbszhVx+PXaJMpyrJEVGh9SJoL2tBpYA\n",
       "XUURN2nBRcAVMBu6M3dY0DvkjJsldt0RgO719m+9qmhibuuy/rEkPoCjdcqwvzvByw0pAAAAKQGe\n",
       "pXRCvwMBRmR/EapwWJssqnAUEvPb0ORXjegkm1TNz25VACxdjOidAAAAKgGep2pCvwMBRmR/Eapw\n",
       "WJssqnAUEvPb0ORXjes1zrUrLvy+AAyzQa8ZagAAAHhBmqxJqEFsmUwIf//+qZYLbmJcRzO/ddmw\n",
       "4il0rKx9AAj4vOG8O/ABtRtN3CRkG1Njp21F4pK0ub8HB39At4U9Bb7QTj1OVc6X86P1fTYkL9ph\n",
       "xZgvdtUywJyHs7aqk8Jrgca1cJQ/FmU6eCzD5c64H/lZ65DbmNsAAABhQZ7KRRUsM/8Btb27M4Vc\n",
       "fj12iTKcqyRFRofUiaCdJyWADtDgFnIRiXtDgqRaSPNP1WMy0+Sbpy5csoJTc15mvmoJe8tENgwJ\n",
       "qHAtL2qaGJtElGpMzCW3ACGuVr2R7YuGrQAAAC4Bnul0Qr8DAUZkfxGqcFibLKpwFBLz29DkV42u\n",
       "vb1qVmpKs4AAI73vi1PvB5EgAAAALAGe62pCvwMBRmR/EapwWJssqnAUEvPb0ORXjek++tSsz333\n",
       "6reADJGseGr2AAAAqUGa8EmoQWyZTAh///6plgtuYlxHM7912bDiKXSsrH0ACPi9yDX9xe66AE1f\n",
       "Ild99BEzwn3bkEmoVvZ2fk0sm093jWpSvFBUsDFqhNF3NVWmttCsaFJvofjDCT6jzb7VFY3+BXYL\n",
       "5wqed+bjuA5BKBBmxko2SwV0jcBiPqOZeQYEIe7bUsPJRECcYCDIfJ6Z2f1MhvHa7giBUbRni76O\n",
       "T9CRJkCKubLpRj8AAABYQZ8ORRUsM/8Btb27M4Vcfj12iTKcqyRFRofUiaDDzCZYATstFcPjitUq\n",
       "WhlArGX9zvi3R2I4hTcbKQksUAxC5aMVRCO1TVlk9hPlo1IIac5svKp/V3QcgQAAACkBny10Qr8D\n",
       "AUZkfxGqcFibLKpwFBLz29DkV43oJJtUzc9uVQAsXYzonQAAACwBny9qQr8DAUZkfxGqcFibLKpw\n",
       "FBLz29DkV43pPlpX7aljRtVgALb9aeC3gAAAAGRBmzRJqEFsmUwIf//+qZYLbmJcRzO/ddmw4il0\n",
       "rKx9AAj42uyAAnb5ErvxFGEkQF6VWc7db37TC/MdmXhpAH2q+FkHGBzGWcTsSA28JEH6/5AcVosu\n",
       "IZZkSjvX7ttSqACfg9g8AAAAVEGfUkUVLDP/AbW9uzOFXH49dokynKskRUaH1ImgkiFsQQAc4b8O\n",
       "JK3GNOUpqRFT8UREgNgf58omzFGEJ1zggKIl3apoYltHn4iBOLAJXAw9Wjz4gQAAACcBn3F0Qr8D\n",
       "AUZkfxGqcFibLKpwFBLz29DkV43roZ1qVgi8QAhEEigAAAAqAZ9zakK/AwFGZH8RqnBYmyyqcBQS\n",
       "89vQ5FeN6T761KwrCSuAH8k8N6PuAAAAgEGbeEmoQWyZTAh3//6plgtuR1oLHdCjXmGf5OGHziIA\n",
       "JoOnuoAE7fDUG29Fa5kwtt6Qmj1cjqYuyy2sdkcBDdvhD2erPM59Xwv+dHea3NX3EzPanxb7Mbnn\n",
       "0c5SENAVP84Lfq2HTzgde7bUs5TuQOgoqnEU/EijqaqhnVyufruzAAAAUkGflkUVLDP/AbW9uzOF\n",
       "XH49dokynKskRUaH1ImgzdV+gA/nIxjSZoSuxllU90swapJmxu4gmzlWEOQD8nO7alpJrQuFXUKb\n",
       "AJaAyD9KqWvGQcgAAAAsAZ+1dEK/AwFGZH8RqnBYmyyqcBQS89vQ5FeN66GdalZd+XwBAbed39TZ\n",
       "vWEAAAAsAZ+3akK/AwFGZH8RqnBYmyyqcBQS89vQ5FeN6zXOtSsu/MSOAAD4w2RW1EEAAACIQZu8\n",
       "SahBbJlMCHf//qmWC25HWgsd0KNeYZ/k4YfOIgAmg6e6gATt8NKzgZjxHWZ7Qywexhitin0TymlA\n",
       "AuAzHxwz+kSoMv4/BGw9BDyGohwj7lpH1o/3GTx04gUVPAHC/u2qbQ/qsRssIFgXIDcaHycG31N6\n",
       "+QjNhHjG9nVbnm3yVM/qkvuqzgAAAFRBn9pFFSwz/wG1vbszhVx+PXaJMpyrJEVGh9SJoM5un0AJ\n",
       "asYzX4D+m4oPwvwukqFUGUeGnbwg56cdQWyUQ7tU0MMkswRcOjaAUa57UsY9WOGtOxEAAAAqAZ/5\n",
       "dEK/AwFGZH8RqnBYmyyqcBQS89vQ5FeN6CSbVM3PblUAbpQgNU/gAAAAKgGf+2pCvwMBRmR/Eapw\n",
       "WJssqnAUEvPb0ORXjes1zrUrLvy+AB9qWJbPuwAAAFdBm+BJqEFsmUwIb//+p4QVnI1bv4t1ulxC\n",
       "/4lCD4vAAFST9DEAH9FaNgrviCoa6SA55lc4QSxHA0sRAxBErtVHkTH435lN/eRYYZQD921TXb4i\n",
       "ggC1ARcAAABmQZ4eRRUsM/8Btb27M4Vcfj12iTKcqyRFRofUiaDObp9AB/PXgioVuaiHlswxNEcL\n",
       "IMDBruGnpgubMbxfgeJYTwJQT9a0epPBhHPlaLakJG0+sAK+9qmhiLX28eCBOC0JfqmvRsDkAAAA\n",
       "KgGePXRCvwMBRmR/EapwWJssqnAUEvPb0ORXjegkm1TNz25VAG6UIDVP4AAAACgBnj9qQr8DAUZk\n",
       "fxGqcFibLKpwFBLz29DkV43jx9vWpWZga0AAyZH/AAAAh0GaJEmoQWyZTAhX//44QPjUiWs59gqD\n",
       "q89avC2EAAA37IMUZQAmmfJTtlhTUmj5UftVcQga+MKHFEL8dtBKLvaZpp72EHzQlasOKnO959Y3\n",
       "1BQ3eCWWh2nGndtsKGbDnNLmz1mPnBLXNeZf93bVM9QEngCiEl7Afu83+tklX7yyiJ+UX0AW0AAA\n",
       "AFhBnkJFFSwz/wG1vbszhVx+PXaJMpyrJEVGh9SJoM3VfoAL6tnp3FcMNJEiJrKTgRIJj5rj4cF2\n",
       "5uOD/IXSBeyeoum7ibuzO2pkAMeFtdDkLQBw/UGpo/CTAAAAKQGeYXRCvwMBRmR/EapwWJssqnAU\n",
       "EvPb0ORXjeuhnWpWXfmIt2ACZnCsAAAAQQGeY2pCvwMBRmR/EapwWJssqnAUEvPb0ORXjeoCrUAH\n",
       "qDLVTWpYOOgCqXPyl/uk47VNvoNEvWfawAZJVmkd4M7/AAAH6m1vb3YAAABsbXZoZAAAAAAAAAAA\n",
       "AAAAAAAAA+gAABO6AAEAAAEAAAAAAAAAAAAAAAABAAAAAAAAAAAAAAAAAAAAAQAAAAAAAAAAAAAA\n",
       "AAAAQAAAAAAAAAAAAAAAAAAAAAAAAAAAAAAAAAAAAAAAAAIAAAcUdHJhawAAAFx0a2hkAAAAAwAA\n",
       "AAAAAAAAAAAAAQAAAAAAABO6AAAAAAAAAAAAAAAAAAAAAAABAAAAAAAAAAAAAAAAAAAAAQAAAAAA\n",
       "AAAAAAAAAAAAQAAAAAGwAAABIAAAAAAAJGVkdHMAAAAcZWxzdAAAAAAAAAABAAATugAABAAAAQAA\n",
       "AAAGjG1kaWEAAAAgbWRoZAAAAAAAAAAAAAAAAAAAKAAAAMoAVcQAAAAAAC1oZGxyAAAAAAAAAAB2\n",
       "aWRlAAAAAAAAAAAAAAAAVmlkZW9IYW5kbGVyAAAABjdtaW5mAAAAFHZtaGQAAAABAAAAAAAAAAAA\n",
       "AAAkZGluZgAAABxkcmVmAAAAAAAAAAEAAAAMdXJsIAAAAAEAAAX3c3RibAAAALNzdHNkAAAAAAAA\n",
       "AAEAAACjYXZjMQAAAAAAAAABAAAAAAAAAAAAAAAAAAAAAAGwASAASAAAAEgAAAAAAAAAAQAAAAAA\n",
       "AAAAAAAAAAAAAAAAAAAAAAAAAAAAAAAAAAAAABj//wAAADFhdmNDAWQAFf/hABhnZAAVrNlBsJaE\n",
       "AAADAAQAAAMAoDxYtlgBAAZo6+PLIsAAAAAcdXVpZGtoQPJfJE/FujmlG88DI/MAAAAAAAAAGHN0\n",
       "dHMAAAAAAAAAAQAAAGUAAAIAAAAAFHN0c3MAAAAAAAAAAQAAAAEAAAM4Y3R0cwAAAAAAAABlAAAA\n",
       "AQAABAAAAAABAAAKAAAAAAEAAAQAAAAAAQAAAAAAAAABAAACAAAAAAEAAAoAAAAAAQAABAAAAAAB\n",
       "AAAAAAAAAAEAAAIAAAAAAQAACgAAAAABAAAEAAAAAAEAAAAAAAAAAQAAAgAAAAABAAAKAAAAAAEA\n",
       "AAQAAAAAAQAAAAAAAAABAAACAAAAAAEAAAoAAAAAAQAABAAAAAABAAAAAAAAAAEAAAIAAAAAAQAA\n",
       "CgAAAAABAAAEAAAAAAEAAAAAAAAAAQAAAgAAAAABAAAKAAAAAAEAAAQAAAAAAQAAAAAAAAABAAAC\n",
       "AAAAAAEAAAoAAAAAAQAABAAAAAABAAAAAAAAAAEAAAIAAAAAAQAACgAAAAABAAAEAAAAAAEAAAAA\n",
       "AAAAAQAAAgAAAAABAAAKAAAAAAEAAAQAAAAAAQAAAAAAAAABAAACAAAAAAEAAAoAAAAAAQAABAAA\n",
       "AAABAAAAAAAAAAEAAAIAAAAAAQAACgAAAAABAAAEAAAAAAEAAAAAAAAAAQAAAgAAAAABAAAKAAAA\n",
       "AAEAAAQAAAAAAQAAAAAAAAABAAACAAAAAAEAAAoAAAAAAQAABAAAAAABAAAAAAAAAAEAAAIAAAAA\n",
       "AQAACgAAAAABAAAEAAAAAAEAAAAAAAAAAQAAAgAAAAABAAAKAAAAAAEAAAQAAAAAAQAAAAAAAAAB\n",
       "AAACAAAAAAEAAAoAAAAAAQAABAAAAAABAAAAAAAAAAEAAAIAAAAAAQAACgAAAAABAAAEAAAAAAEA\n",
       "AAAAAAAAAQAAAgAAAAABAAAKAAAAAAEAAAQAAAAAAQAAAAAAAAABAAACAAAAAAEAAAoAAAAAAQAA\n",
       "BAAAAAABAAAAAAAAAAEAAAIAAAAAAQAACgAAAAABAAAEAAAAAAEAAAAAAAAAAQAAAgAAAAABAAAK\n",
       "AAAAAAEAAAQAAAAAAQAAAAAAAAABAAACAAAAAAEAAAoAAAAAAQAABAAAAAABAAAAAAAAAAEAAAIA\n",
       "AAAAAQAACgAAAAABAAAEAAAAAAEAAAAAAAAAAQAAAgAAAAABAAAKAAAAAAEAAAQAAAAAAQAAAAAA\n",
       "AAABAAACAAAAABxzdHNjAAAAAAAAAAEAAAABAAAAZQAAAAEAAAGoc3RzegAAAAAAAAAAAAAAZQAA\n",
       "C4kAAAFBAAAAcwAAAEYAAABFAAAAqAAAAGAAAAA7AAAANQAAAKcAAABbAAAANQAAADYAAABrAAAA\n",
       "bwAAADUAAAAxAAAApAAAAFsAAAAuAAAALgAAALkAAABpAAAAMQAAAC4AAAB5AAAATgAAAC4AAAAt\n",
       "AAAAiAAAAEkAAAAxAAAALwAAAHYAAABqAAAAMAAAAC0AAACeAAAAbwAAAC4AAAAvAAAAiQAAAGEA\n",
       "AAArAAAALAAAAIgAAABNAAAALwAAAC4AAACcAAAAVwAAADIAAAAwAAAAYQAAAGUAAAAwAAAALgAA\n",
       "ALgAAABhAAAALAAAADAAAACVAAAAYAAAAC0AAAAsAAAAewAAAEkAAAArAAAALAAAAIgAAABZAAAA\n",
       "LQAAAC4AAAB8AAAAZQAAADIAAAAwAAAArQAAAFwAAAAtAAAAMAAAAGgAAABYAAAAKwAAAC4AAACE\n",
       "AAAAVgAAADAAAAAwAAAAjAAAAFgAAAAuAAAALgAAAFsAAABqAAAALgAAACwAAACLAAAAXAAAAC0A\n",
       "AABFAAAAFHN0Y28AAAAAAAAAAQAAACwAAABidWR0YQAAAFptZXRhAAAAAAAAACFoZGxyAAAAAAAA\n",
       "AABtZGlyYXBwbAAAAAAAAAAAAAAAAC1pbHN0AAAAJal0b28AAAAdZGF0YQAAAAEAAAAATGF2ZjU3\n",
       "LjgzLjEwMA==\n",
       "\">\n",
       "  Your browser does not support the video tag.\n",
       "</video>"
      ],
      "text/plain": [
       "<IPython.core.display.HTML object>"
      ]
     },
     "execution_count": 10,
     "metadata": {},
     "output_type": "execute_result"
    }
   ],
   "source": [
    "HTML(animateCartpole(xs).to_jshtml())"
   ]
  },
  {
   "cell_type": "code",
   "execution_count": 11,
   "metadata": {},
   "outputs": [],
   "source": [
    "# %load solutions/cartpole_ddp.py\n",
    "# #########################################################################\n",
    "# ################# TODO: Create the DDP solver and run it ###############\n",
    "# ##########################################################################"
   ]
  },
  {
   "cell_type": "code",
   "execution_count": 12,
   "metadata": {},
   "outputs": [],
   "source": [
    "HTML(animateCartpole(ddp.xs.tolist()).to_jshtml())"
   ]
  },
  {
   "cell_type": "markdown",
   "metadata": {},
   "source": [
    "## Tune the problem, solve it\n",
    "\n",
    "Give some indication about what should be tried for solving the problem.\n",
    "\n",
    "\n",
    " - Without a terminal model, we can see some swings but we cannot stabilize. What should we do?\n",
    "\n",
    " - The most important is to reach the standing position. Can we also nullify the velocity?\n",
    "\n",
    " - Increasing all the weights is not working. How to slowly increase the penalty?\n",
    "\n"
   ]
  },
  {
   "cell_type": "code",
   "execution_count": 50,
   "metadata": {},
   "outputs": [],
   "source": [
    "# %load solutions/cartpole_tuning.py\n",
    "# ##########################################################################\n",
    "# ################# TODO: Tune the weights for each cost ###################\n",
    "# ##########################################################################\n",
    "terminalCartpole = DifferentialActionModelCartpole()\n",
    "terminalCartpoleDAM = crocoddyl.DifferentialActionModelNumDiff(terminalCartpole, True)\n",
    "terminalCartpoleIAM = crocoddyl.IntegratedActionModelEuler(terminalCartpoleDAM)\n",
    "\n",
    "terminalCartpole.costWeights[0] = 0 # fix me :)\n",
    "terminalCartpole.costWeights[1] = 0 # fix me :)\n",
    "terminalCartpole.costWeights[2] = 0 # fix me :)\n",
    "terminalCartpole.costWeights[3] = 0 # fix me :)\n",
    "terminalCartpole.costWeights[4] = 0 # fix me :)\n",
    "terminalCartpole.costWeights[5] = 0 # fix me :)\n",
    "problem = crocoddyl.ShootingProblem(x0, [cartpoleIAM] * T, terminalCartpoleIAM)"
   ]
  },
  {
   "cell_type": "code",
   "execution_count": 51,
   "metadata": {},
   "outputs": [],
   "source": [
    "#Solution:\n",
    "#Q1: Set weights \n",
    "#Q2: Standing position with high w[0], w[1]; 0 velocity by slighthly increasing w[3]=xdot"
   ]
  },
  {
   "cell_type": "code",
   "execution_count": 52,
   "metadata": {},
   "outputs": [
    {
     "name": "stdout",
     "output_type": "stream",
     "text": [
      "False\n"
     ]
    }
   ],
   "source": [
    "# Creating the DDP solver\n",
    "ddp = crocoddyl.SolverDDP(problem)\n",
    "ddp.setCallbacks([crocoddyl.CallbackVerbose()])\n",
    "\n",
    "# Solving this problem\n",
    "done = ddp.solve([], [], 300)\n",
    "print(done)"
   ]
  },
  {
   "cell_type": "code",
   "execution_count": 53,
   "metadata": {},
   "outputs": [],
   "source": [
    "HTML(animateCartpole(ddp.xs.tolist()).to_jshtml())"
   ]
  },
  {
   "cell_type": "markdown",
   "metadata": {},
   "source": [
    "## Using analytical derivatives\n",
    "\n",
    "You can get the solution of the analytical derivatives by uncommenting the following line:"
   ]
  },
  {
   "cell_type": "code",
   "execution_count": null,
   "metadata": {},
   "outputs": [],
   "source": [
    "# %load solutions/cartpole_analytical_derivatives.py\n",
    "def cartpole_analytical_derivatives(model, data, x, u=None):\n",
    "    pass"
   ]
  },
  {
   "cell_type": "markdown",
   "metadata": {},
   "source": [
    "The analytical derivatives being defined, we do not need to use DAMNumDiff to numerically approximate the derivatives."
   ]
  },
  {
   "cell_type": "code",
   "execution_count": null,
   "metadata": {},
   "outputs": [],
   "source": [
    "timeStep = 5e-2\n",
    "cartpoleIAM = crocoddyl.IntegratedActionModelEuler(cartpoleDAM, timeStep)"
   ]
  },
  {
   "cell_type": "markdown",
   "metadata": {},
   "source": [
    "You can now run again all the blocks in \"IV. Write the problem, create the solver\" since cartpoleIAM has been redefined to directly used the analytical derivatives."
   ]
  },
  {
   "cell_type": "code",
   "execution_count": null,
   "metadata": {},
   "outputs": [],
   "source": []
  }
 ],
 "metadata": {
  "kernelspec": {
   "display_name": "Python 3",
   "language": "python",
   "name": "python3"
  },
  "language_info": {
   "codemirror_mode": {
    "name": "ipython",
    "version": 3
   },
   "file_extension": ".py",
   "mimetype": "text/x-python",
   "name": "python",
   "nbconvert_exporter": "python",
   "pygments_lexer": "ipython3",
   "version": "3.8.3"
  }
 },
 "nbformat": 4,
 "nbformat_minor": 2
}
