{
 "cells": [
  {
   "cell_type": "code",
   "execution_count": 3,
   "metadata": {},
   "outputs": [],
   "source": [
    "import crocoddyl\n",
    "import pinocchio\n",
    "import numpy as np\n",
    "import example_robot_data\n",
    "from crocoddyl.utils.biped import SimpleBipedGaitProblem\n",
    "from pinocchio.robot_wrapper import RobotWrapper\n",
    "\n",
    "crocoddyl.switchToNumpyMatrix()\n",
    "\n",
    "# Creating the lower-body part of Talos\n",
    "#talos_legs = example_robot_data.loadTalosLegs()\n",
    "\n",
    "# Loading the RH5 Model\n",
    "URDF_FILENAME = \"RH5_Lower_Body_FixedMeshPaths.urdf\"\n",
    "URDF_SUBPATH = \"/abstract-urdf/urdf/\" + URDF_FILENAME\n",
    "modelPath = \"/home/dfki.uni-bremen.de/jesser/Dev/rh5-models\"\n",
    "\n",
    "# Fix mesh file paths by parsing urdf file\n",
    "\n",
    "rh5_legs = RobotWrapper.BuildFromURDF(modelPath + URDF_SUBPATH, [modelPath], pinocchio.JointModelFreeFlyer()) # Load URDF file\n",
    "#readParamsFromSrdf(robot, modelPath + SRDF_SUBPATH, False) # Load SRDF file\n",
    "#assert ((robot.model.armature[:6] == 0.).all()) \n",
    "#example_robot_data.addFreeFlyerJointLimits(rh5_legs) # Add the free-flyer joint limits\n",
    "\n",
    "# Setting up the 3d walking problem\n",
    "rightFoot = 'LL_AnkleFT'\n",
    "leftFoot = 'LR_AnkleFT'\n",
    "\n",
    "#Display the loaded robot model\n",
    "display = crocoddyl.GepettoDisplay(rh5_legs, 4, 4, frameNames=[rightFoot, leftFoot])"
   ]
  },
  {
   "cell_type": "code",
   "execution_count": 4,
   "metadata": {},
   "outputs": [
    {
     "ename": "KeyError",
     "evalue": "'Invalid key'",
     "output_type": "error",
     "traceback": [
      "\u001b[0;31m---------------------------------------------------------------------------\u001b[0m",
      "\u001b[0;31mKeyError\u001b[0m                                  Traceback (most recent call last)",
      "\u001b[0;32m<ipython-input-4-2841db32ec92>\u001b[0m in \u001b[0;36m<module>\u001b[0;34m\u001b[0m\n\u001b[0;32m----> 1\u001b[0;31m \u001b[0mgait\u001b[0m \u001b[0;34m=\u001b[0m \u001b[0mSimpleBipedGaitProblem\u001b[0m\u001b[0;34m(\u001b[0m\u001b[0mrh5_legs\u001b[0m\u001b[0;34m.\u001b[0m\u001b[0mmodel\u001b[0m\u001b[0;34m,\u001b[0m \u001b[0mrightFoot\u001b[0m\u001b[0;34m,\u001b[0m \u001b[0mleftFoot\u001b[0m\u001b[0;34m)\u001b[0m\u001b[0;34m\u001b[0m\u001b[0;34m\u001b[0m\u001b[0m\n\u001b[0m\u001b[1;32m      2\u001b[0m \u001b[0;34m\u001b[0m\u001b[0m\n\u001b[1;32m      3\u001b[0m \u001b[0;31m# Create the initial state\u001b[0m\u001b[0;34m\u001b[0m\u001b[0;34m\u001b[0m\u001b[0;34m\u001b[0m\u001b[0m\n\u001b[1;32m      4\u001b[0m \u001b[0mq0\u001b[0m \u001b[0;34m=\u001b[0m \u001b[0mrh5_legs\u001b[0m\u001b[0;34m.\u001b[0m\u001b[0mq0\u001b[0m\u001b[0;34m.\u001b[0m\u001b[0mcopy\u001b[0m\u001b[0;34m(\u001b[0m\u001b[0;34m)\u001b[0m\u001b[0;34m\u001b[0m\u001b[0;34m\u001b[0m\u001b[0m\n\u001b[1;32m      5\u001b[0m \u001b[0mv0\u001b[0m \u001b[0;34m=\u001b[0m \u001b[0mpinocchio\u001b[0m\u001b[0;34m.\u001b[0m\u001b[0mutils\u001b[0m\u001b[0;34m.\u001b[0m\u001b[0mzero\u001b[0m\u001b[0;34m(\u001b[0m\u001b[0mrh5_legs\u001b[0m\u001b[0;34m.\u001b[0m\u001b[0mmodel\u001b[0m\u001b[0;34m.\u001b[0m\u001b[0mnv\u001b[0m\u001b[0;34m)\u001b[0m\u001b[0;34m\u001b[0m\u001b[0;34m\u001b[0m\u001b[0m\n",
      "\u001b[0;32m/opt/openrobots/lib/python3.6/site-packages/crocoddyl/utils/biped.py\u001b[0m in \u001b[0;36m__init__\u001b[0;34m(self, rmodel, rightFoot, leftFoot)\u001b[0m\n\u001b[1;32m     16\u001b[0m         \u001b[0mself\u001b[0m\u001b[0;34m.\u001b[0m\u001b[0mlfId\u001b[0m \u001b[0;34m=\u001b[0m \u001b[0mself\u001b[0m\u001b[0;34m.\u001b[0m\u001b[0mrmodel\u001b[0m\u001b[0;34m.\u001b[0m\u001b[0mgetFrameId\u001b[0m\u001b[0;34m(\u001b[0m\u001b[0mleftFoot\u001b[0m\u001b[0;34m)\u001b[0m\u001b[0;34m\u001b[0m\u001b[0;34m\u001b[0m\u001b[0m\n\u001b[1;32m     17\u001b[0m         \u001b[0;31m# Defining default state\u001b[0m\u001b[0;34m\u001b[0m\u001b[0;34m\u001b[0m\u001b[0;34m\u001b[0m\u001b[0m\n\u001b[0;32m---> 18\u001b[0;31m         \u001b[0mq0\u001b[0m \u001b[0;34m=\u001b[0m \u001b[0mself\u001b[0m\u001b[0;34m.\u001b[0m\u001b[0mrmodel\u001b[0m\u001b[0;34m.\u001b[0m\u001b[0mreferenceConfigurations\u001b[0m\u001b[0;34m[\u001b[0m\u001b[0;34m\"half_sitting\"\u001b[0m\u001b[0;34m]\u001b[0m\u001b[0;34m\u001b[0m\u001b[0;34m\u001b[0m\u001b[0m\n\u001b[0m\u001b[1;32m     19\u001b[0m         \u001b[0mself\u001b[0m\u001b[0;34m.\u001b[0m\u001b[0mrmodel\u001b[0m\u001b[0;34m.\u001b[0m\u001b[0mdefaultState\u001b[0m \u001b[0;34m=\u001b[0m \u001b[0mnp\u001b[0m\u001b[0;34m.\u001b[0m\u001b[0mconcatenate\u001b[0m\u001b[0;34m(\u001b[0m\u001b[0;34m[\u001b[0m\u001b[0mq0\u001b[0m\u001b[0;34m,\u001b[0m \u001b[0mnp\u001b[0m\u001b[0;34m.\u001b[0m\u001b[0mzeros\u001b[0m\u001b[0;34m(\u001b[0m\u001b[0;34m(\u001b[0m\u001b[0mself\u001b[0m\u001b[0;34m.\u001b[0m\u001b[0mrmodel\u001b[0m\u001b[0;34m.\u001b[0m\u001b[0mnv\u001b[0m\u001b[0;34m,\u001b[0m \u001b[0;36m1\u001b[0m\u001b[0;34m)\u001b[0m\u001b[0;34m)\u001b[0m\u001b[0;34m]\u001b[0m\u001b[0;34m)\u001b[0m\u001b[0;34m\u001b[0m\u001b[0;34m\u001b[0m\u001b[0m\n\u001b[1;32m     20\u001b[0m         \u001b[0mself\u001b[0m\u001b[0;34m.\u001b[0m\u001b[0mfirstStep\u001b[0m \u001b[0;34m=\u001b[0m \u001b[0;32mTrue\u001b[0m\u001b[0;34m\u001b[0m\u001b[0;34m\u001b[0m\u001b[0m\n",
      "\u001b[0;31mKeyError\u001b[0m: 'Invalid key'"
     ]
    }
   ],
   "source": [
    "gait = SimpleBipedGaitProblem(rh5_legs.model, rightFoot, leftFoot)\n",
    "\n",
    "# Create the initial state\n",
    "q0 = rh5_legs.q0.copy()\n",
    "v0 = pinocchio.utils.zero(rh5_legs.model.nv)\n",
    "x0 = np.concatenate([q0,v0])\n",
    "\n",
    "\n",
    "# Creating the walking problem\n",
    "stepLength = 0.6 # meters\n",
    "stepHeight = 0.1 # meters\n",
    "timeStep = 0.0375 # seconds\n",
    "stepKnots = 20\n",
    "supportKnots = 10\n",
    "problem = gait.createWalkingProblem(x0, stepLength, stepHeight, timeStep, stepKnots, supportKnots)\n",
    "\n",
    "\n",
    "# Solving the 3d walking problem using Feasibility-prone DDP\n",
    "ddp = crocoddyl.SolverFDDP(problem)\n",
    "display = crocoddyl.GepettoDisplay(rh5_legs, 4, 4, frameNames=[rightFoot, leftFoot])\n",
    "cameraTF = [3., 3.68, 0.84, 0.2, 0.62, 0.72, 0.22]\n",
    "ddp.setCallbacks([crocoddyl.CallbackLogger(),\n",
    "                  crocoddyl.CallbackVerbose(),\n",
    "                  crocoddyl.CallbackDisplay(display)])\n",
    "ddp.th_stop = 1e-9\n",
    "init_xs = [rh5_legs.model.defaultState] * (problem.T + 1)\n",
    "init_us = []\n",
    "maxiter = 1000\n",
    "regInit = 0.1\n",
    "ddp.solve(init_xs, init_us, maxiter, False, regInit)"
   ]
  },
  {
   "cell_type": "markdown",
   "metadata": {},
   "source": [
    "With the following commands we can plot \n",
    " - the state and control trajectories, and\n",
    " - the DDP performance"
   ]
  },
  {
   "cell_type": "code",
   "execution_count": null,
   "metadata": {},
   "outputs": [],
   "source": [
    "%matplotlib inline\n",
    "\n",
    "# Plotting the solution and the DDP convergence\n",
    "log = ddp.getCallbacks()[0]\n",
    "crocoddyl.plotOCSolution(log.xs, log.us)\n",
    "crocoddyl.plotConvergence(log.costs, log.u_regs, log.x_regs, log.grads, log.stops, log.steps)\n"
   ]
  },
  {
   "cell_type": "markdown",
   "metadata": {},
   "source": [
    "Finally we can visualize the solution using gepetto-viewer."
   ]
  },
  {
   "cell_type": "code",
   "execution_count": null,
   "metadata": {},
   "outputs": [],
   "source": [
    "# Visualization of the DDP solution in gepetto-viewer\n",
    "#rate = 2.\n",
    "#display.displayFromSolver(ddp, rate)\n",
    "\n",
    "display = crocoddyl.GepettoDisplay(rh5_legs, frameNames=[rightFoot, leftFoot])\n",
    "display.displayFromSolver(ddp)"
   ]
  },
  {
   "cell_type": "markdown",
   "metadata": {},
   "source": [
    "## VI. Understanding the walking problem\n",
    "\n",
    "In this problem we pre-defined a 20 and 10 knots for the step and double support phases with $dt=$3.75e-2, repectively. \n",
    "\n",
    " 1. Could you tell us how much is the foot step and double support duration?\n",
    " 2. What happens when do we change $dt$ (e.g. 2e-2 secs)?\n",
    " 3. What happens when do we change the number of step knots (e.g. 10)?\n"
   ]
  },
  {
   "cell_type": "code",
   "execution_count": null,
   "metadata": {},
   "outputs": [],
   "source": []
  }
 ],
 "metadata": {
  "kernelspec": {
   "display_name": "Python 2",
   "language": "python",
   "name": "python2"
  },
  "language_info": {
   "codemirror_mode": {
    "name": "ipython",
    "version": 3
   },
   "file_extension": ".py",
   "mimetype": "text/x-python",
   "name": "python",
   "nbconvert_exporter": "python",
   "pygments_lexer": "ipython3",
   "version": "2.7.17-final"
  }
 },
 "nbformat": 4,
 "nbformat_minor": 2
}